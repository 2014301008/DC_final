{
 "cells": [
  {
   "cell_type": "markdown",
   "metadata": {},
   "source": [
    "# Bokeh로 나타내보는 전문가 평점과 네티즌 평점관의 관계 "
   ]
  },
  {
   "cell_type": "code",
   "execution_count": 1,
   "metadata": {
    "scrolled": true
   },
   "outputs": [
    {
     "data": {
      "text/html": [
       "\n",
       "    <div class=\"bk-root\">\n",
       "        <a href=\"https://bokeh.pydata.org\" target=\"_blank\" class=\"bk-logo bk-logo-small bk-logo-notebook\"></a>\n",
       "        <span id=\"1001\">Loading BokehJS ...</span>\n",
       "    </div>"
      ]
     },
     "metadata": {},
     "output_type": "display_data"
    },
    {
     "data": {
      "application/javascript": [
       "\n",
       "(function(root) {\n",
       "  function now() {\n",
       "    return new Date();\n",
       "  }\n",
       "\n",
       "  var force = true;\n",
       "\n",
       "  if (typeof root._bokeh_onload_callbacks === \"undefined\" || force === true) {\n",
       "    root._bokeh_onload_callbacks = [];\n",
       "    root._bokeh_is_loading = undefined;\n",
       "  }\n",
       "\n",
       "  var JS_MIME_TYPE = 'application/javascript';\n",
       "  var HTML_MIME_TYPE = 'text/html';\n",
       "  var EXEC_MIME_TYPE = 'application/vnd.bokehjs_exec.v0+json';\n",
       "  var CLASS_NAME = 'output_bokeh rendered_html';\n",
       "\n",
       "  /**\n",
       "   * Render data to the DOM node\n",
       "   */\n",
       "  function render(props, node) {\n",
       "    var script = document.createElement(\"script\");\n",
       "    node.appendChild(script);\n",
       "  }\n",
       "\n",
       "  /**\n",
       "   * Handle when an output is cleared or removed\n",
       "   */\n",
       "  function handleClearOutput(event, handle) {\n",
       "    var cell = handle.cell;\n",
       "\n",
       "    var id = cell.output_area._bokeh_element_id;\n",
       "    var server_id = cell.output_area._bokeh_server_id;\n",
       "    // Clean up Bokeh references\n",
       "    if (id != null && id in Bokeh.index) {\n",
       "      Bokeh.index[id].model.document.clear();\n",
       "      delete Bokeh.index[id];\n",
       "    }\n",
       "\n",
       "    if (server_id !== undefined) {\n",
       "      // Clean up Bokeh references\n",
       "      var cmd = \"from bokeh.io.state import curstate; print(curstate().uuid_to_server['\" + server_id + \"'].get_sessions()[0].document.roots[0]._id)\";\n",
       "      cell.notebook.kernel.execute(cmd, {\n",
       "        iopub: {\n",
       "          output: function(msg) {\n",
       "            var id = msg.content.text.trim();\n",
       "            if (id in Bokeh.index) {\n",
       "              Bokeh.index[id].model.document.clear();\n",
       "              delete Bokeh.index[id];\n",
       "            }\n",
       "          }\n",
       "        }\n",
       "      });\n",
       "      // Destroy server and session\n",
       "      var cmd = \"import bokeh.io.notebook as ion; ion.destroy_server('\" + server_id + \"')\";\n",
       "      cell.notebook.kernel.execute(cmd);\n",
       "    }\n",
       "  }\n",
       "\n",
       "  /**\n",
       "   * Handle when a new output is added\n",
       "   */\n",
       "  function handleAddOutput(event, handle) {\n",
       "    var output_area = handle.output_area;\n",
       "    var output = handle.output;\n",
       "\n",
       "    // limit handleAddOutput to display_data with EXEC_MIME_TYPE content only\n",
       "    if ((output.output_type != \"display_data\") || (!output.data.hasOwnProperty(EXEC_MIME_TYPE))) {\n",
       "      return\n",
       "    }\n",
       "\n",
       "    var toinsert = output_area.element.find(\".\" + CLASS_NAME.split(' ')[0]);\n",
       "\n",
       "    if (output.metadata[EXEC_MIME_TYPE][\"id\"] !== undefined) {\n",
       "      toinsert[toinsert.length - 1].firstChild.textContent = output.data[JS_MIME_TYPE];\n",
       "      // store reference to embed id on output_area\n",
       "      output_area._bokeh_element_id = output.metadata[EXEC_MIME_TYPE][\"id\"];\n",
       "    }\n",
       "    if (output.metadata[EXEC_MIME_TYPE][\"server_id\"] !== undefined) {\n",
       "      var bk_div = document.createElement(\"div\");\n",
       "      bk_div.innerHTML = output.data[HTML_MIME_TYPE];\n",
       "      var script_attrs = bk_div.children[0].attributes;\n",
       "      for (var i = 0; i < script_attrs.length; i++) {\n",
       "        toinsert[toinsert.length - 1].firstChild.setAttribute(script_attrs[i].name, script_attrs[i].value);\n",
       "      }\n",
       "      // store reference to server id on output_area\n",
       "      output_area._bokeh_server_id = output.metadata[EXEC_MIME_TYPE][\"server_id\"];\n",
       "    }\n",
       "  }\n",
       "\n",
       "  function register_renderer(events, OutputArea) {\n",
       "\n",
       "    function append_mime(data, metadata, element) {\n",
       "      // create a DOM node to render to\n",
       "      var toinsert = this.create_output_subarea(\n",
       "        metadata,\n",
       "        CLASS_NAME,\n",
       "        EXEC_MIME_TYPE\n",
       "      );\n",
       "      this.keyboard_manager.register_events(toinsert);\n",
       "      // Render to node\n",
       "      var props = {data: data, metadata: metadata[EXEC_MIME_TYPE]};\n",
       "      render(props, toinsert[toinsert.length - 1]);\n",
       "      element.append(toinsert);\n",
       "      return toinsert\n",
       "    }\n",
       "\n",
       "    /* Handle when an output is cleared or removed */\n",
       "    events.on('clear_output.CodeCell', handleClearOutput);\n",
       "    events.on('delete.Cell', handleClearOutput);\n",
       "\n",
       "    /* Handle when a new output is added */\n",
       "    events.on('output_added.OutputArea', handleAddOutput);\n",
       "\n",
       "    /**\n",
       "     * Register the mime type and append_mime function with output_area\n",
       "     */\n",
       "    OutputArea.prototype.register_mime_type(EXEC_MIME_TYPE, append_mime, {\n",
       "      /* Is output safe? */\n",
       "      safe: true,\n",
       "      /* Index of renderer in `output_area.display_order` */\n",
       "      index: 0\n",
       "    });\n",
       "  }\n",
       "\n",
       "  // register the mime type if in Jupyter Notebook environment and previously unregistered\n",
       "  if (root.Jupyter !== undefined) {\n",
       "    var events = require('base/js/events');\n",
       "    var OutputArea = require('notebook/js/outputarea').OutputArea;\n",
       "\n",
       "    if (OutputArea.prototype.mime_types().indexOf(EXEC_MIME_TYPE) == -1) {\n",
       "      register_renderer(events, OutputArea);\n",
       "    }\n",
       "  }\n",
       "\n",
       "  \n",
       "  if (typeof (root._bokeh_timeout) === \"undefined\" || force === true) {\n",
       "    root._bokeh_timeout = Date.now() + 5000;\n",
       "    root._bokeh_failed_load = false;\n",
       "  }\n",
       "\n",
       "  var NB_LOAD_WARNING = {'data': {'text/html':\n",
       "     \"<div style='background-color: #fdd'>\\n\"+\n",
       "     \"<p>\\n\"+\n",
       "     \"BokehJS does not appear to have successfully loaded. If loading BokehJS from CDN, this \\n\"+\n",
       "     \"may be due to a slow or bad network connection. Possible fixes:\\n\"+\n",
       "     \"</p>\\n\"+\n",
       "     \"<ul>\\n\"+\n",
       "     \"<li>re-rerun `output_notebook()` to attempt to load from CDN again, or</li>\\n\"+\n",
       "     \"<li>use INLINE resources instead, as so:</li>\\n\"+\n",
       "     \"</ul>\\n\"+\n",
       "     \"<code>\\n\"+\n",
       "     \"from bokeh.resources import INLINE\\n\"+\n",
       "     \"output_notebook(resources=INLINE)\\n\"+\n",
       "     \"</code>\\n\"+\n",
       "     \"</div>\"}};\n",
       "\n",
       "  function display_loaded() {\n",
       "    var el = document.getElementById(\"1001\");\n",
       "    if (el != null) {\n",
       "      el.textContent = \"BokehJS is loading...\";\n",
       "    }\n",
       "    if (root.Bokeh !== undefined) {\n",
       "      if (el != null) {\n",
       "        el.textContent = \"BokehJS \" + root.Bokeh.version + \" successfully loaded.\";\n",
       "      }\n",
       "    } else if (Date.now() < root._bokeh_timeout) {\n",
       "      setTimeout(display_loaded, 100)\n",
       "    }\n",
       "  }\n",
       "\n",
       "\n",
       "  function run_callbacks() {\n",
       "    try {\n",
       "      root._bokeh_onload_callbacks.forEach(function(callback) {\n",
       "        if (callback != null)\n",
       "          callback();\n",
       "      });\n",
       "    } finally {\n",
       "      delete root._bokeh_onload_callbacks\n",
       "    }\n",
       "    console.debug(\"Bokeh: all callbacks have finished\");\n",
       "  }\n",
       "\n",
       "  function load_libs(css_urls, js_urls, callback) {\n",
       "    if (css_urls == null) css_urls = [];\n",
       "    if (js_urls == null) js_urls = [];\n",
       "\n",
       "    root._bokeh_onload_callbacks.push(callback);\n",
       "    if (root._bokeh_is_loading > 0) {\n",
       "      console.debug(\"Bokeh: BokehJS is being loaded, scheduling callback at\", now());\n",
       "      return null;\n",
       "    }\n",
       "    if (js_urls == null || js_urls.length === 0) {\n",
       "      run_callbacks();\n",
       "      return null;\n",
       "    }\n",
       "    console.debug(\"Bokeh: BokehJS not loaded, scheduling load and callback at\", now());\n",
       "    root._bokeh_is_loading = css_urls.length + js_urls.length;\n",
       "\n",
       "    function on_load() {\n",
       "      root._bokeh_is_loading--;\n",
       "      if (root._bokeh_is_loading === 0) {\n",
       "        console.debug(\"Bokeh: all BokehJS libraries/stylesheets loaded\");\n",
       "        run_callbacks()\n",
       "      }\n",
       "    }\n",
       "\n",
       "    function on_error() {\n",
       "      console.error(\"failed to load \" + url);\n",
       "    }\n",
       "\n",
       "    for (var i = 0; i < css_urls.length; i++) {\n",
       "      var url = css_urls[i];\n",
       "      const element = document.createElement(\"link\");\n",
       "      element.onload = on_load;\n",
       "      element.onerror = on_error;\n",
       "      element.rel = \"stylesheet\";\n",
       "      element.type = \"text/css\";\n",
       "      element.href = url;\n",
       "      console.debug(\"Bokeh: injecting link tag for BokehJS stylesheet: \", url);\n",
       "      document.body.appendChild(element);\n",
       "    }\n",
       "\n",
       "    for (var i = 0; i < js_urls.length; i++) {\n",
       "      var url = js_urls[i];\n",
       "      var element = document.createElement('script');\n",
       "      element.onload = on_load;\n",
       "      element.onerror = on_error;\n",
       "      element.async = false;\n",
       "      element.src = url;\n",
       "      console.debug(\"Bokeh: injecting script tag for BokehJS library: \", url);\n",
       "      document.head.appendChild(element);\n",
       "    }\n",
       "  };var element = document.getElementById(\"1001\");\n",
       "  if (element == null) {\n",
       "    console.error(\"Bokeh: ERROR: autoload.js configured with elementid '1001' but no matching script tag was found. \")\n",
       "    return false;\n",
       "  }\n",
       "\n",
       "  function inject_raw_css(css) {\n",
       "    const element = document.createElement(\"style\");\n",
       "    element.appendChild(document.createTextNode(css));\n",
       "    document.body.appendChild(element);\n",
       "  }\n",
       "\n",
       "  var js_urls = [\"https://cdn.pydata.org/bokeh/release/bokeh-1.3.4.min.js\", \"https://cdn.pydata.org/bokeh/release/bokeh-widgets-1.3.4.min.js\", \"https://cdn.pydata.org/bokeh/release/bokeh-tables-1.3.4.min.js\", \"https://cdn.pydata.org/bokeh/release/bokeh-gl-1.3.4.min.js\"];\n",
       "  var css_urls = [];\n",
       "\n",
       "  var inline_js = [\n",
       "    function(Bokeh) {\n",
       "      Bokeh.set_log_level(\"info\");\n",
       "    },\n",
       "    \n",
       "    function(Bokeh) {\n",
       "      \n",
       "    },\n",
       "    function(Bokeh) {} // ensure no trailing comma for IE\n",
       "  ];\n",
       "\n",
       "  function run_inline_js() {\n",
       "    \n",
       "    if ((root.Bokeh !== undefined) || (force === true)) {\n",
       "      for (var i = 0; i < inline_js.length; i++) {\n",
       "        inline_js[i].call(root, root.Bokeh);\n",
       "      }if (force === true) {\n",
       "        display_loaded();\n",
       "      }} else if (Date.now() < root._bokeh_timeout) {\n",
       "      setTimeout(run_inline_js, 100);\n",
       "    } else if (!root._bokeh_failed_load) {\n",
       "      console.log(\"Bokeh: BokehJS failed to load within specified timeout.\");\n",
       "      root._bokeh_failed_load = true;\n",
       "    } else if (force !== true) {\n",
       "      var cell = $(document.getElementById(\"1001\")).parents('.cell').data().cell;\n",
       "      cell.output_area.append_execute_result(NB_LOAD_WARNING)\n",
       "    }\n",
       "\n",
       "  }\n",
       "\n",
       "  if (root._bokeh_is_loading === 0) {\n",
       "    console.debug(\"Bokeh: BokehJS loaded, going straight to plotting\");\n",
       "    run_inline_js();\n",
       "  } else {\n",
       "    load_libs(css_urls, js_urls, function() {\n",
       "      console.debug(\"Bokeh: BokehJS plotting callback run at\", now());\n",
       "      run_inline_js();\n",
       "    });\n",
       "  }\n",
       "}(window));"
      ],
      "application/vnd.bokehjs_load.v0+json": "\n(function(root) {\n  function now() {\n    return new Date();\n  }\n\n  var force = true;\n\n  if (typeof root._bokeh_onload_callbacks === \"undefined\" || force === true) {\n    root._bokeh_onload_callbacks = [];\n    root._bokeh_is_loading = undefined;\n  }\n\n  \n\n  \n  if (typeof (root._bokeh_timeout) === \"undefined\" || force === true) {\n    root._bokeh_timeout = Date.now() + 5000;\n    root._bokeh_failed_load = false;\n  }\n\n  var NB_LOAD_WARNING = {'data': {'text/html':\n     \"<div style='background-color: #fdd'>\\n\"+\n     \"<p>\\n\"+\n     \"BokehJS does not appear to have successfully loaded. If loading BokehJS from CDN, this \\n\"+\n     \"may be due to a slow or bad network connection. Possible fixes:\\n\"+\n     \"</p>\\n\"+\n     \"<ul>\\n\"+\n     \"<li>re-rerun `output_notebook()` to attempt to load from CDN again, or</li>\\n\"+\n     \"<li>use INLINE resources instead, as so:</li>\\n\"+\n     \"</ul>\\n\"+\n     \"<code>\\n\"+\n     \"from bokeh.resources import INLINE\\n\"+\n     \"output_notebook(resources=INLINE)\\n\"+\n     \"</code>\\n\"+\n     \"</div>\"}};\n\n  function display_loaded() {\n    var el = document.getElementById(\"1001\");\n    if (el != null) {\n      el.textContent = \"BokehJS is loading...\";\n    }\n    if (root.Bokeh !== undefined) {\n      if (el != null) {\n        el.textContent = \"BokehJS \" + root.Bokeh.version + \" successfully loaded.\";\n      }\n    } else if (Date.now() < root._bokeh_timeout) {\n      setTimeout(display_loaded, 100)\n    }\n  }\n\n\n  function run_callbacks() {\n    try {\n      root._bokeh_onload_callbacks.forEach(function(callback) {\n        if (callback != null)\n          callback();\n      });\n    } finally {\n      delete root._bokeh_onload_callbacks\n    }\n    console.debug(\"Bokeh: all callbacks have finished\");\n  }\n\n  function load_libs(css_urls, js_urls, callback) {\n    if (css_urls == null) css_urls = [];\n    if (js_urls == null) js_urls = [];\n\n    root._bokeh_onload_callbacks.push(callback);\n    if (root._bokeh_is_loading > 0) {\n      console.debug(\"Bokeh: BokehJS is being loaded, scheduling callback at\", now());\n      return null;\n    }\n    if (js_urls == null || js_urls.length === 0) {\n      run_callbacks();\n      return null;\n    }\n    console.debug(\"Bokeh: BokehJS not loaded, scheduling load and callback at\", now());\n    root._bokeh_is_loading = css_urls.length + js_urls.length;\n\n    function on_load() {\n      root._bokeh_is_loading--;\n      if (root._bokeh_is_loading === 0) {\n        console.debug(\"Bokeh: all BokehJS libraries/stylesheets loaded\");\n        run_callbacks()\n      }\n    }\n\n    function on_error() {\n      console.error(\"failed to load \" + url);\n    }\n\n    for (var i = 0; i < css_urls.length; i++) {\n      var url = css_urls[i];\n      const element = document.createElement(\"link\");\n      element.onload = on_load;\n      element.onerror = on_error;\n      element.rel = \"stylesheet\";\n      element.type = \"text/css\";\n      element.href = url;\n      console.debug(\"Bokeh: injecting link tag for BokehJS stylesheet: \", url);\n      document.body.appendChild(element);\n    }\n\n    for (var i = 0; i < js_urls.length; i++) {\n      var url = js_urls[i];\n      var element = document.createElement('script');\n      element.onload = on_load;\n      element.onerror = on_error;\n      element.async = false;\n      element.src = url;\n      console.debug(\"Bokeh: injecting script tag for BokehJS library: \", url);\n      document.head.appendChild(element);\n    }\n  };var element = document.getElementById(\"1001\");\n  if (element == null) {\n    console.error(\"Bokeh: ERROR: autoload.js configured with elementid '1001' but no matching script tag was found. \")\n    return false;\n  }\n\n  function inject_raw_css(css) {\n    const element = document.createElement(\"style\");\n    element.appendChild(document.createTextNode(css));\n    document.body.appendChild(element);\n  }\n\n  var js_urls = [\"https://cdn.pydata.org/bokeh/release/bokeh-1.3.4.min.js\", \"https://cdn.pydata.org/bokeh/release/bokeh-widgets-1.3.4.min.js\", \"https://cdn.pydata.org/bokeh/release/bokeh-tables-1.3.4.min.js\", \"https://cdn.pydata.org/bokeh/release/bokeh-gl-1.3.4.min.js\"];\n  var css_urls = [];\n\n  var inline_js = [\n    function(Bokeh) {\n      Bokeh.set_log_level(\"info\");\n    },\n    \n    function(Bokeh) {\n      \n    },\n    function(Bokeh) {} // ensure no trailing comma for IE\n  ];\n\n  function run_inline_js() {\n    \n    if ((root.Bokeh !== undefined) || (force === true)) {\n      for (var i = 0; i < inline_js.length; i++) {\n        inline_js[i].call(root, root.Bokeh);\n      }if (force === true) {\n        display_loaded();\n      }} else if (Date.now() < root._bokeh_timeout) {\n      setTimeout(run_inline_js, 100);\n    } else if (!root._bokeh_failed_load) {\n      console.log(\"Bokeh: BokehJS failed to load within specified timeout.\");\n      root._bokeh_failed_load = true;\n    } else if (force !== true) {\n      var cell = $(document.getElementById(\"1001\")).parents('.cell').data().cell;\n      cell.output_area.append_execute_result(NB_LOAD_WARNING)\n    }\n\n  }\n\n  if (root._bokeh_is_loading === 0) {\n    console.debug(\"Bokeh: BokehJS loaded, going straight to plotting\");\n    run_inline_js();\n  } else {\n    load_libs(css_urls, js_urls, function() {\n      console.debug(\"Bokeh: BokehJS plotting callback run at\", now());\n      run_inline_js();\n    });\n  }\n}(window));"
     },
     "metadata": {},
     "output_type": "display_data"
    },
    {
     "name": "stdout",
     "output_type": "stream",
     "text": [
      "              mean       std\n",
      "grade                       \n",
      "12세 관람가   8.636897  0.830633\n",
      "15세 관람가   8.337273  0.796159\n",
      "전체 관람가    8.932308  0.637536\n",
      "청소년 관람불가  7.536875  1.163734\n",
      "              mean       std\n",
      "grade                       \n",
      "12세 관람가   6.621724  0.976678\n",
      "15세 관람가   6.637273  1.144428\n",
      "전체 관람가    6.881538  0.893251\n",
      "청소년 관람불가  5.681875  2.387708\n"
     ]
    },
    {
     "data": {
      "text/html": [
       "\n",
       "\n",
       "\n",
       "\n",
       "\n",
       "\n",
       "  <div class=\"bk-root\" id=\"f7b213d1-a643-4c69-9c4f-389e2e4c6449\" data-root-id=\"1003\"></div>\n"
      ]
     },
     "metadata": {},
     "output_type": "display_data"
    },
    {
     "data": {
      "application/javascript": [
       "(function(root) {\n",
       "  function embed_document(root) {\n",
       "    \n",
       "  var docs_json = {\"7dfb0b6b-a83a-41d9-9aab-1f4c177d85ca\":{\"roots\":{\"references\":[{\"attributes\":{\"below\":[{\"id\":\"1012\",\"type\":\"LinearAxis\"}],\"center\":[{\"id\":\"1016\",\"type\":\"Grid\"},{\"id\":\"1021\",\"type\":\"Grid\"}],\"left\":[{\"id\":\"1017\",\"type\":\"LinearAxis\"}],\"plot_height\":300,\"plot_width\":500,\"renderers\":[{\"id\":\"1028\",\"type\":\"GlyphRenderer\"}],\"title\":{\"id\":\"1030\",\"type\":\"Title\"},\"toolbar\":{\"id\":\"1022\",\"type\":\"Toolbar\"},\"x_range\":{\"id\":\"1004\",\"type\":\"DataRange1d\"},\"x_scale\":{\"id\":\"1008\",\"type\":\"LinearScale\"},\"y_range\":{\"id\":\"1006\",\"type\":\"DataRange1d\"},\"y_scale\":{\"id\":\"1010\",\"type\":\"LinearScale\"}},\"id\":\"1003\",\"subtype\":\"Figure\",\"type\":\"Plot\"},{\"attributes\":{\"ticker\":{\"id\":\"1013\",\"type\":\"BasicTicker\"}},\"id\":\"1016\",\"type\":\"Grid\"},{\"attributes\":{},\"id\":\"1033\",\"type\":\"BasicTickFormatter\"},{\"attributes\":{},\"id\":\"1013\",\"type\":\"BasicTicker\"},{\"attributes\":{\"formatter\":{\"id\":\"1035\",\"type\":\"BasicTickFormatter\"},\"ticker\":{\"id\":\"1018\",\"type\":\"BasicTicker\"}},\"id\":\"1017\",\"type\":\"LinearAxis\"},{\"attributes\":{\"dimension\":1,\"ticker\":{\"id\":\"1018\",\"type\":\"BasicTicker\"}},\"id\":\"1021\",\"type\":\"Grid\"},{\"attributes\":{},\"id\":\"1037\",\"type\":\"UnionRenderers\"},{\"attributes\":{},\"id\":\"1018\",\"type\":\"BasicTicker\"},{\"attributes\":{},\"id\":\"1035\",\"type\":\"BasicTickFormatter\"},{\"attributes\":{\"source\":{\"id\":\"1024\",\"type\":\"ColumnDataSource\"}},\"id\":\"1029\",\"type\":\"CDSView\"},{\"attributes\":{},\"id\":\"1036\",\"type\":\"Selection\"},{\"attributes\":{\"text\":\"\"},\"id\":\"1030\",\"type\":\"Title\"},{\"attributes\":{\"data_source\":{\"id\":\"1024\",\"type\":\"ColumnDataSource\"},\"glyph\":{\"id\":\"1026\",\"type\":\"Scatter\"},\"hover_glyph\":null,\"muted_glyph\":null,\"nonselection_glyph\":{\"id\":\"1027\",\"type\":\"Scatter\"},\"selection_glyph\":null,\"view\":{\"id\":\"1029\",\"type\":\"CDSView\"}},\"id\":\"1028\",\"type\":\"GlyphRenderer\"},{\"attributes\":{\"active_drag\":\"auto\",\"active_inspect\":\"auto\",\"active_multi\":null,\"active_scroll\":\"auto\",\"active_tap\":\"auto\",\"tools\":[{\"id\":\"1002\",\"type\":\"HoverTool\"}]},\"id\":\"1022\",\"type\":\"Toolbar\"},{\"attributes\":{\"callback\":null},\"id\":\"1004\",\"type\":\"DataRange1d\"},{\"attributes\":{\"fill_alpha\":{\"value\":0.1},\"fill_color\":{\"value\":\"#1f77b4\"},\"line_alpha\":{\"value\":0.1},\"line_color\":{\"value\":\"#1f77b4\"},\"x\":{\"field\":\"expert_score\"},\"y\":{\"field\":\"netizen_score\"}},\"id\":\"1027\",\"type\":\"Scatter\"},{\"attributes\":{\"callback\":null,\"tooltips\":[[\"index\",\"$index\"],[\"movie_id\",\"@movie_id\"],[\"movie_name\",\"@movie_name\"],[\"netizen_score\",\"@netizen_score\"],[\"expert_score\",\"@expert_score\"],[\"grade\",\"@grade\"],[\"genre\",\"@genre\"]]},\"id\":\"1002\",\"type\":\"HoverTool\"},{\"attributes\":{},\"id\":\"1008\",\"type\":\"LinearScale\"},{\"attributes\":{\"callback\":null,\"data\":{\"expert_score\":{\"__ndarray__\":\"hetRuB6FHkAAAAAAAAAbQAAAAAAAABhAAAAAAAAAHEDXo3A9CtcaQAAAAAAAABxArkfhehSuFkBxPQrXo3AbQAAAAAAAACFAAAAAAAAAFEAfhetRuB4iQAAAAAAAACBASOF6FK5HHUCPwvUoXI8eQFK4HoXrURlArkfhehSuIEAAAAAAAAAYQLgehetRuCBA7FG4HoXrHEBxPQrXo3AdQHsUrkfheh5AXI/C9ShcBUAAAAAAAAACQAAAAAAAAABAAAAAAAAAFEAzMzMzMzMbQHE9CtejcBdAMzMzMzMzG0BmZmZmZmYWQDMzMzMzMx5AAAAAAAAAFEAAAAAAAAAYQDMzMzMzMxtAKVyPwvUoG0AAAAAAAAAYQAAAAAAAABhAUrgehetRGUAAAAAAAAAUQIXrUbgehR1APQrXo3A9F0AAAAAAAAAgQLgehetRuBVArkfhehQuIEDXo3A9CtceQB+F61G4HiBAZmZmZmZmGkAAAAAAAAAXQFK4HoXrUR1AAAAAAAAAFkBSuB6F61EbQAAAAAAAABhAuB6F61G4HkBmZmZmZmYgQAAAAAAAABNA16NwPQrXGkAAAAAAAAAYQEjhehSuRxZASOF6FK5HHkDhehSuR+EZQHE9CtejcBlAAAAAAAAAGEDsUbgeheshQLgehetRuBhAAAAAAAAAHEAAAAAAAAAZQAAAAAAAAABAAAAAAAAAHECPwvUoXI8YQIXrUbgehRtA16NwPQrXFkBmZmZmZuYgQAAAAAAAABRAMzMzMzMzFUAAAAAAAAAbQGZmZmZmZhpAmpmZmZmZGUAAAAAAAAAWQD0K16NwPRRAAAAAAAAAHkC4HoXrUTgiQA==\",\"dtype\":\"float64\",\"shape\":[80]},\"genre\":[\"\\uc561\\uc158\",\"\\uc560\\ub2c8\\uba54\\uc774\\uc158\",\"\\uc561\\uc158\",\"\\ubbf8\\uc2a4\\ud130\\ub9ac\",\"\\uba5c\\ub85c/\\ub85c\\ub9e8\\uc2a4\",\"\\ub4dc\\ub77c\\ub9c8\",\"\\uc2a4\\ub9b4\\ub7ec\",\"\\ub4dc\\ub77c\\ub9c8\",\"\\ucf54\\ubbf8\\ub514\",\"\\ubc94\\uc8c4\",\"\\ub4dc\\ub77c\\ub9c8\",\"\\uc560\\ub2c8\\uba54\\uc774\\uc158\",\"\\uc560\\ub2c8\\uba54\\uc774\\uc158\",\"\\uc2a4\\ub9b4\\ub7ec\",\"\\uba5c\\ub85c/\\ub85c\\ub9e8\\uc2a4\",\"\\ub4dc\\ub77c\\ub9c8\",\"\\ubaa8\\ud5d8\",\"\\ubaa8\\ud5d8\",\"\\uc561\\uc158\",\"\\ucf54\\ubbf8\\ub514\",\"\\uc561\\uc158\",\"\\ub4dc\\ub77c\\ub9c8\",\"\\ub4dc\\ub77c\\ub9c8\",\"\\ucf54\\ubbf8\\ub514\",\"\\uc561\\uc158\",\"\\uc560\\ub2c8\\uba54\\uc774\\uc158\",\"\\ub4dc\\ub77c\\ub9c8\",\"\\ucf54\\ubbf8\\ub514\",\"\\ub4dc\\ub77c\\ub9c8\",\"\\uc560\\ub2c8\\uba54\\uc774\\uc158\",\"\\uba5c\\ub85c/\\ub85c\\ub9e8\\uc2a4\",\"\\ud310\\ud0c0\\uc9c0\",\"\\uba5c\\ub85c/\\ub85c\\ub9e8\\uc2a4\",\"\\ub4dc\\ub77c\\ub9c8\",\"\\ub4dc\\ub77c\\ub9c8\",\"\\uc560\\ub2c8\\uba54\\uc774\\uc158\",\"\\ubc94\\uc8c4\",\"\\ub4dc\\ub77c\\ub9c8\",\"SF\",\"\\ubc94\\uc8c4\",\"\\uba5c\\ub85c/\\ub85c\\ub9e8\\uc2a4\",\"\\ubc94\\uc8c4\",\"\\uc560\\ub2c8\\uba54\\uc774\\uc158\",\"\\uc560\\ub2c8\\uba54\\uc774\\uc158\",\"\\ub4dc\\ub77c\\ub9c8\",\"\\ub4dc\\ub77c\\ub9c8\",\"\\uc561\\uc158\",\"\\ub4dc\\ub77c\\ub9c8\",\"\\ubc94\\uc8c4\",\"\\ub4dc\\ub77c\\ub9c8\",\"\\uba5c\\ub85c/\\ub85c\\ub9e8\\uc2a4\",\"\\ub4dc\\ub77c\\ub9c8\",\"\\ub4dc\\ub77c\\ub9c8\",\"\\uba5c\\ub85c/\\ub85c\\ub9e8\\uc2a4\",\"\\ucf54\\ubbf8\\ub514\",\"\\uc560\\ub2c8\\uba54\\uc774\\uc158\",\"\\ub4dc\\ub77c\\ub9c8\",\"\\uba5c\\ub85c/\\ub85c\\ub9e8\\uc2a4\",\"\\uc560\\ub2c8\\uba54\\uc774\\uc158\",\"\\ub4dc\\ub77c\\ub9c8\",\"\\uba5c\\ub85c/\\ub85c\\ub9e8\\uc2a4\",\"\\ub4dc\\ub77c\\ub9c8\",\"\\ud310\\ud0c0\\uc9c0\",\"\\uba5c\\ub85c/\\ub85c\\ub9e8\\uc2a4\",\"\\ucf54\\ubbf8\\ub514\",\"\\uba5c\\ub85c/\\ub85c\\ub9e8\\uc2a4\",\"\\ubc94\\uc8c4\",\"\\ub4dc\\ub77c\\ub9c8\",\"\\uc561\\uc158\",\"\\ubc94\\uc8c4\",\"\\uba5c\\ub85c/\\ub85c\\ub9e8\\uc2a4\",\"\\uc804\\uc7c1\",\"\\uc561\\uc158\",\"\\ub4dc\\ub77c\\ub9c8\",\"\\uc561\\uc158\",\"\\uc560\\ub2c8\\uba54\\uc774\\uc158\",\"\\ub4dc\\ub77c\\ub9c8\",\"\\uc2a4\\ub9b4\\ub7ec\",\"\\ub4dc\\ub77c\\ub9c8\",\"\\ubc94\\uc8c4\"],\"grade\":[\"12\\uc138 \\uad00\\ub78c\\uac00\",\"\\uc804\\uccb4 \\uad00\\ub78c\\uac00\",\"12\\uc138 \\uad00\\ub78c\\uac00\",\"12\\uc138 \\uad00\\ub78c\\uac00\",\"12\\uc138 \\uad00\\ub78c\\uac00\",\"12\\uc138 \\uad00\\ub78c\\uac00\",\"15\\uc138 \\uad00\\ub78c\\uac00\",\"12\\uc138 \\uad00\\ub78c\\uac00\",\"15\\uc138 \\uad00\\ub78c\\uac00\",\"15\\uc138 \\uad00\\ub78c\\uac00\",\"15\\uc138 \\uad00\\ub78c\\uac00\",\"\\uc804\\uccb4 \\uad00\\ub78c\\uac00\",\"\\uc804\\uccb4 \\uad00\\ub78c\\uac00\",\"15\\uc138 \\uad00\\ub78c\\uac00\",\"15\\uc138 \\uad00\\ub78c\\uac00\",\"12\\uc138 \\uad00\\ub78c\\uac00\",\"\\uc804\\uccb4 \\uad00\\ub78c\\uac00\",\"\\uc804\\uccb4 \\uad00\\ub78c\\uac00\",\"12\\uc138 \\uad00\\ub78c\\uac00\",\"\\uccad\\uc18c\\ub144 \\uad00\\ub78c\\ubd88\\uac00\",\"12\\uc138 \\uad00\\ub78c\\uac00\",\"\\uccad\\uc18c\\ub144 \\uad00\\ub78c\\ubd88\\uac00\",\"\\uccad\\uc18c\\ub144 \\uad00\\ub78c\\ubd88\\uac00\",\"\\uccad\\uc18c\\ub144 \\uad00\\ub78c\\ubd88\\uac00\",\"15\\uc138 \\uad00\\ub78c\\uac00\",\"12\\uc138 \\uad00\\ub78c\\uac00\",\"12\\uc138 \\uad00\\ub78c\\uac00\",\"15\\uc138 \\uad00\\ub78c\\uac00\",\"15\\uc138 \\uad00\\ub78c\\uac00\",\"12\\uc138 \\uad00\\ub78c\\uac00\",\"12\\uc138 \\uad00\\ub78c\\uac00\",\"\\uc804\\uccb4 \\uad00\\ub78c\\uac00\",\"15\\uc138 \\uad00\\ub78c\\uac00\",\"12\\uc138 \\uad00\\ub78c\\uac00\",\"12\\uc138 \\uad00\\ub78c\\uac00\",\"\\uc804\\uccb4 \\uad00\\ub78c\\uac00\",\"\\uccad\\uc18c\\ub144 \\uad00\\ub78c\\ubd88\\uac00\",\"12\\uc138 \\uad00\\ub78c\\uac00\",\"12\\uc138 \\uad00\\ub78c\\uac00\",\"\\uccad\\uc18c\\ub144 \\uad00\\ub78c\\ubd88\\uac00\",\"12\\uc138 \\uad00\\ub78c\\uac00\",\"\\uccad\\uc18c\\ub144 \\uad00\\ub78c\\ubd88\\uac00\",\"\\uc804\\uccb4 \\uad00\\ub78c\\uac00\",\"\\uc804\\uccb4 \\uad00\\ub78c\\uac00\",\"12\\uc138 \\uad00\\ub78c\\uac00\",\"12\\uc138 \\uad00\\ub78c\\uac00\",\"15\\uc138 \\uad00\\ub78c\\uac00\",\"15\\uc138 \\uad00\\ub78c\\uac00\",\"15\\uc138 \\uad00\\ub78c\\uac00\",\"15\\uc138 \\uad00\\ub78c\\uac00\",\"15\\uc138 \\uad00\\ub78c\\uac00\",\"15\\uc138 \\uad00\\ub78c\\uac00\",\"\\uccad\\uc18c\\ub144 \\uad00\\ub78c\\ubd88\\uac00\",\"12\\uc138 \\uad00\\ub78c\\uac00\",\"12\\uc138 \\uad00\\ub78c\\uac00\",\"\\uc804\\uccb4 \\uad00\\ub78c\\uac00\",\"\\uccad\\uc18c\\ub144 \\uad00\\ub78c\\ubd88\\uac00\",\"\\uccad\\uc18c\\ub144 \\uad00\\ub78c\\ubd88\\uac00\",\"\\uc804\\uccb4 \\uad00\\ub78c\\uac00\",\"\\uc804\\uccb4 \\uad00\\ub78c\\uac00\",\"12\\uc138 \\uad00\\ub78c\\uac00\",\"\\uccad\\uc18c\\ub144 \\uad00\\ub78c\\ubd88\\uac00\",\"15\\uc138 \\uad00\\ub78c\\uac00\",\"15\\uc138 \\uad00\\ub78c\\uac00\",\"12\\uc138 \\uad00\\ub78c\\uac00\",\"\\uccad\\uc18c\\ub144 \\uad00\\ub78c\\ubd88\\uac00\",\"15\\uc138 \\uad00\\ub78c\\uac00\",\"12\\uc138 \\uad00\\ub78c\\uac00\",\"\\uccad\\uc18c\\ub144 \\uad00\\ub78c\\ubd88\\uac00\",\"\\uccad\\uc18c\\ub144 \\uad00\\ub78c\\ubd88\\uac00\",\"15\\uc138 \\uad00\\ub78c\\uac00\",\"12\\uc138 \\uad00\\ub78c\\uac00\",\"15\\uc138 \\uad00\\ub78c\\uac00\",\"12\\uc138 \\uad00\\ub78c\\uac00\",\"15\\uc138 \\uad00\\ub78c\\uac00\",\"\\uc804\\uccb4 \\uad00\\ub78c\\uac00\",\"12\\uc138 \\uad00\\ub78c\\uac00\",\"\\uccad\\uc18c\\ub144 \\uad00\\ub78c\\ubd88\\uac00\",\"12\\uc138 \\uad00\\ub78c\\uac00\",\"\\uccad\\uc18c\\ub144 \\uad00\\ub78c\\ubd88\\uac00\"],\"index\":[0,1,2,3,4,5,6,7,8,9,10,11,12,13,14,15,16,17,18,19,20,21,22,23,24,25,26,27,28,29,30,31,32,33,34,35,36,37,38,39,40,41,42,43,44,45,46,47,48,49,50,51,52,53,54,55,56,57,58,59,60,61,62,63,64,65,66,67,68,69,70,71,72,73,74,75,76,77,78,79],\"level_0\":[0,1,2,3,4,5,6,7,8,9,10,11,12,13,14,15,16,17,18,19,20,21,22,23,24,25,26,27,28,29,30,31,32,33,34,35,36,37,38,39,40,41,42,43,44,45,46,47,48,49,50,51,52,53,54,55,56,57,58,59,60,61,62,63,64,65,66,67,68,69,70,71,72,73,74,75,76,77,78,79],\"movie_id\":[181710,136873,187349,189000,182387,189111,175324,188060,188056,179159,161967,151728,100931,167613,182205,134963,163788,47528,174903,95333,136900,154598,144081,187390,163831,95762,167699,167651,96379,150198,137915,57095,92075,179482,177374,164907,188473,118954,159887,107373,24830,96951,101966,70457,103657,106360,183803,174830,163608,142632,39440,101950,98432,180381,73372,164907,113353,61101,97692,154449,157178,101962,100644,36843,118917,122009,179302,156464,181698,177967,38444,159806,178526,147092,100643,130849,187787,124031,134899,154298],\"movie_name\":[\"\\ud3ec\\ub4dc V \\ud398\\ub77c\\ub9ac\",\"\\uaca8\\uc6b8\\uc655\\uad6d 2\",\"\\uc96c\\ub9cc\\uc9c0: \\ub125\\uc2a4\\ud2b8 \\ub808\\ubca8\",\"\\ub098\\uc774\\ube0c\\uc2a4 \\uc544\\uc6c3\",\"\\uc724\\ud76c\\uc5d0\\uac8c\",\"\\ub450 \\uad50\\ud669\",\"\\ub098\\ub97c \\ucc3e\\uc544\\uc918\",\"\\ud30c\\ube44\\uc548\\ub290\\uc5d0 \\uad00\\ud55c \\uc9c4\\uc2e4\",\"\\uacb0\\ud63c \\uc774\\uc57c\\uae30\",\"\\uc2e0\\uc758 \\ud55c \\uc218: \\uadc0\\uc218\\ud3b8\",\"\\uae30\\uc0dd\\ucda9\",\"\\ucf54\\ucf54\",\"\\uaca8\\uc6b8\\uc655\\uad6d\",\"\\uc870\\ucee4\",\"\\uac00\\uc7a5 \\ubcf4\\ud1b5\\uc758 \\uc5f0\\uc560\",\"\\ub77c\\ub77c\\ub79c\\ub4dc\",\"\\uc54c\\ub77c\\ub518\",\"\\ud574\\ub9ac \\ud3ec\\ud130\\uc640 \\uc8fd\\uc74c\\uc758 \\uc131\\ubb3c - 2\\ubd80\",\"\\uc5d1\\uc2dc\\ud2b8\",\"\\ub354 \\uc6b8\\ud504 \\uc624\\ube0c \\uc6d4 \\uc2a4\\ud2b8\\ub9ac\\ud2b8\",\"\\uc5b4\\ubca4\\uc838\\uc2a4: \\uc5d4\\ub4dc\\uac8c\\uc784\",\"50\\uac00\\uc9c0 \\uadf8\\ub9bc\\uc790: \\ud574\\ubc29\",\"50\\uac00\\uc9c0 \\uadf8\\ub9bc\\uc790: \\uc2ec\\uc5f0\",\"\\uc544\\uc9c1 \\uc0ac\\ub791\\ud558\\uace0 \\uc788\\uc2b5\\ub2c8\\uae4c?\",\"\\uc5d4\\uc824 \\ud574\\uc988 \\ud3f4\\ub978\",\"\\ud53c\\ubd80\\uc0c9\\uae54=\\uafc0\\uc0c9\",\"\\ub9d0\\ubaa8\\uc774\",\"\\uadf9\\ud55c\\uc9c1\\uc5c5\",\"\\ube44\\uae34 \\uc5b4\\uac8c\\uc778\",\"\\ub108\\uc758 \\uc774\\ub984\\uc740.\",\"\\ubbf8 \\ube44\\ud3ec \\uc720\",\"\\ud574\\ub9ac \\ud3ec\\ud130\\uc640 \\ubd88\\uc0ac\\uc870 \\uae30\\uc0ac\\ub2e8\",\"\\uc5b4\\ubc14\\uc6c3 \\ud0c0\\uc784\",\"82\\ub144\\uc0dd \\uae40\\uc9c0\\uc601\",\"\\uc99d\\uc778\",\"\\ub808\\ub4dc\\uc288\\uc988\",\"\\ud5c8\\uc2ac\\ub7ec\",\"\\uc544\\ub378\\ub77c\\uc778 : \\uba48\\ucdb0\\uc9c4 \\uc2dc\\uac04\",\"\\uc560\\ub4dc \\uc544\\uc2a4\\ud2b8\\ub77c\",\"\\uc2e0\\uc758 \\ud55c \\uc218\",\"\\ub178\\ud305 \\ud790\",\"\\ud0c0\\uc9dc: \\uc6d0 \\uc544\\uc774\\ub4dc \\uc7ad\",\"\\ud1a0\\uc774 \\uc2a4\\ud1a0\\ub9ac 4\",\"\\ub4dc\\ub798\\uace4 \\uae38\\ub4e4\\uc774\\uae30\",\"\\ube0c\\ub8e8\\ud074\\ub9b0\",\"\\uc704\\ub300\\ud55c \\uc1fc\\ub9e8\",\"\\ud06c\\ub864\",\"\\uac00\\ubc84\\ub098\\uc6c0\",\"\\ub3c8\",\"\\ubbf8\\uc2a4 \\uc2ac\\ub85c\\uc6b4\",\"\\uc774\\ud504 \\uc628\\ub9ac\",\"\\uadf8\\ub140\",\"\\uac00\\uc7a5 \\ub530\\ub73b\\ud55c \\uc0c9, \\ube14\\ub8e8\",\"\\uc7a5\\ub09c\\uc2a4\\ub7f0 \\ud0a4\\uc2a4\",\"\\uc138 \\uc5bc\\uac04\\uc774\",\"\\ub808\\ub4dc\\uc288\\uc988\",\"\\uc778\\uac04\\uc911\\ub3c5\",\"\\uc0c9, \\uacc4\",\"\\ucff5\\ud478\\ud32c\\ub3543\",\"\\ub9ac\\ud2c0 \\ud3ec\\ub808\\uc2a4\\ud2b8\",\"\\ub098\\ub294 \\ub0b4\\uc77c, \\uc5b4\\uc81c\\uc758 \\ub108\\uc640 \\ub9cc\\ub09c\\ub2e4\",\"\\uce90\\ub864\",\"\\ud5dd\\uac70\\uac8c\\uc784:\\ubaa8\\ud0b9\\uc81c\\uc774\",\"\\ub7ec\\ube0c \\uc561\\uce04\\uc5bc\\ub9ac\",\"\\uc778\\ud134\",\"\\uc5b4\\uc6b0\\ub3d9: \\uc8fc\\uc778 \\uc5c6\\ub294 \\uaf43\",\"\\uce74\\uc13c\\ud0c0\",\"\\ubcf4\\ud5e4\\ubbf8\\uc548 \\ub7a9\\uc18c\\ub514\",\"\\uc874 \\uc705 3: \\ud30c\\ub77c\\ubca8\\ub8f8\",\"\\uc545\\uc778\\uc804\",\"\\uc774\\ud130\\ub110 \\uc120\\uc0e4\\uc778\",\"\\uc7a5\\uc0ac\\ub9ac : \\uc78a\\ud600\\uc9c4 \\uc601\\uc6c5\\ub4e4\",\"\\ubd09\\uc624\\ub3d9 \\uc804\\ud22c\",\"\\ud788\\ub4e0 \\ud53c\\uaca8\\uc2a4\",\"\\ud5dd\\uac70\\uac8c\\uc784 : \\ub354 \\ud30c\\uc774\\ub110\",\"\\ubaa8\\uc544\\ub098\",\"\\ub108\\ub97c \\ub9cc\\ub09c \\uc5ec\\ub984\",\"\\ub110 \\uae30\\ub2e4\\ub9ac\\uba70\",\"\\ub3d9\\uc8fc\",\"\\uc544\\uc774\\ub9ac\\uc2dc\\ub9e8\"],\"netizen_score\":{\"__ndarray__\":\"H4XrUbgeI0Bcj8L1KFwhQFK4HoXrURhAw/UoXI9CIkBcj8L1KFwiQGZmZmZm5iFAXI/C9ShcHEC4HoXrUbggQLgehetROCJAexSuR+F6H0BxPQrXo/AgQIXrUbgehSJAPQrXo3A9IkDNzMzMzEwhQEjhehSuRx9ArkfhehQuIUDD9Shcj8IiQB+F61G4niJAFK5H4XqUIECkcD0K1yMgQMP1KFyPwiJAw/UoXI/CH0CPwvUoXI8dQFyPwvUoXBxA7FG4HoXrIED2KFyPwvUhQK5H4XoULiJACtejcD0KIUCPwvUoXA8iQIXrUbgehSFAexSuR+H6IEDsUbgehesbQFK4HoXrUSJAw/UoXI/CGkApXI/C9SgiQPYoXI/CdSJAw/UoXI/CG0DNzMzMzEwgQOxRuB6F6xxAj8L1KFwPIEApXI/C9SgiQGZmZmZmZhVAFK5H4XoUIkApXI/C9agiQLgehetROCBAw/UoXI/CIkDNzMzMzMwbQK5H4XoULiNApHA9CtejHUCkcD0K16MiQKRwPQrXIyJAhetRuB4FIUAUrkfhepQhQHE9CtejcCBAMzMzMzOzIkD2KFyPwnUiQM3MzMzMzBpAFK5H4XoUIUDD9Shcj0IhQArXo3A9iiFArkfhehSuIUCkcD0K1yMhQClcj8L1KB5AZmZmZmbmIUB7FK5H4fohQBSuR+F6FBNACtejcD0KHUDXo3A9CtciQBSuR+F6FCBAj8L1KFyPH0C4HoXrUTgiQIXrUbgehSBApHA9CtejH0C4HoXrUbgiQHsUrkfheh5AUrgehetRIkAzMzMzMzMgQEjhehSuRx5APQrXo3C9IkBSuB6F69EhQA==\",\"dtype\":\"float64\",\"shape\":[80]}},\"selected\":{\"id\":\"1036\",\"type\":\"Selection\"},\"selection_policy\":{\"id\":\"1037\",\"type\":\"UnionRenderers\"}},\"id\":\"1024\",\"type\":\"ColumnDataSource\"},{\"attributes\":{\"fill_color\":{\"value\":\"#1f77b4\"},\"line_color\":{\"value\":\"#1f77b4\"},\"x\":{\"field\":\"expert_score\"},\"y\":{\"field\":\"netizen_score\"}},\"id\":\"1026\",\"type\":\"Scatter\"},{\"attributes\":{\"callback\":null},\"id\":\"1006\",\"type\":\"DataRange1d\"},{\"attributes\":{\"formatter\":{\"id\":\"1033\",\"type\":\"BasicTickFormatter\"},\"ticker\":{\"id\":\"1013\",\"type\":\"BasicTicker\"}},\"id\":\"1012\",\"type\":\"LinearAxis\"},{\"attributes\":{},\"id\":\"1010\",\"type\":\"LinearScale\"}],\"root_ids\":[\"1003\"]},\"title\":\"Bokeh Application\",\"version\":\"1.3.4\"}};\n",
       "  var render_items = [{\"docid\":\"7dfb0b6b-a83a-41d9-9aab-1f4c177d85ca\",\"roots\":{\"1003\":\"f7b213d1-a643-4c69-9c4f-389e2e4c6449\"}}];\n",
       "  root.Bokeh.embed.embed_items_notebook(docs_json, render_items);\n",
       "\n",
       "  }\n",
       "  if (root.Bokeh !== undefined) {\n",
       "    embed_document(root);\n",
       "  } else {\n",
       "    var attempts = 0;\n",
       "    var timer = setInterval(function(root) {\n",
       "      if (root.Bokeh !== undefined) {\n",
       "        embed_document(root);\n",
       "        clearInterval(timer);\n",
       "      }\n",
       "      attempts++;\n",
       "      if (attempts > 100) {\n",
       "        console.log(\"Bokeh: ERROR: Unable to run BokehJS code because BokehJS library is missing\");\n",
       "        clearInterval(timer);\n",
       "      }\n",
       "    }, 10, root)\n",
       "  }\n",
       "})(window);"
      ],
      "application/vnd.bokehjs_exec.v0+json": ""
     },
     "metadata": {
      "application/vnd.bokehjs_exec.v0+json": {
       "id": "1003"
      }
     },
     "output_type": "display_data"
    }
   ],
   "source": [
    "from bokeh.models import HoverTool\n",
    "from scipy import stats\n",
    "from statsmodels.formula.api   import  ols\n",
    "\n",
    "from bokeh.plotting import output_notebook, figure, show\n",
    "import os\n",
    "import pandas as pd\n",
    "\n",
    "output_notebook()\n",
    "\n",
    "df = pd.read_csv('./movie.csv',encoding='CP949')\n",
    "\n",
    "group_by_netizen = df.groupby('grade')['netizen_score'].agg(['mean','std'])\n",
    "group_by_expert = df.groupby('grade')['expert_score'].agg(['mean','std'])   ## std 표준편차 \n",
    "\n",
    "print(group_by_netizen)\n",
    "print(group_by_expert)\n",
    "\n",
    "see_12_frame  = df.loc[df.grade == '12세 관람가']\n",
    "see_15_frame  = df.loc[df.grade == '15세 관람가']\n",
    "see_adult_frame  = df.loc[df.grade == '청소년 관람불가']\n",
    "see_all_frame = df.loc[df.grade == '전체 관람가']\n",
    "\n",
    "hover = HoverTool(\n",
    "    tooltips=[\n",
    "        (\"index\", \"$index\"),\n",
    "        (\"movie_id\", \"@movie_id\"),\n",
    "        (\"movie_name\", \"@movie_name\"),\n",
    "        (\"netizen_score\", \"@netizen_score\"),  \n",
    "        (\"expert_score\", \"@expert_score\"),\n",
    "        (\"grade\", \"@grade\"),\n",
    "        (\"genre\", \"@genre\")        \n",
    "    ]\n",
    ")\n",
    "p = figure(tools=[hover],plot_width=500, plot_height=300)\n",
    "\n",
    "p.scatter(\"expert_score\", \"netizen_score\", source = df)\n",
    "\n",
    "show(p)"
   ]
  },
  {
   "cell_type": "markdown",
   "metadata": {},
   "source": [
    "# 관람가에 따로 나누어 보기 쉽게 색변환"
   ]
  },
  {
   "cell_type": "code",
   "execution_count": 2,
   "metadata": {},
   "outputs": [
    {
     "data": {
      "text/html": [
       "\n",
       "\n",
       "\n",
       "\n",
       "\n",
       "\n",
       "  <div class=\"bk-root\" id=\"0711f455-7dad-4244-b4e2-7184df1091ca\" data-root-id=\"1086\"></div>\n"
      ]
     },
     "metadata": {},
     "output_type": "display_data"
    },
    {
     "data": {
      "application/javascript": [
       "(function(root) {\n",
       "  function embed_document(root) {\n",
       "    \n",
       "  var docs_json = {\"ebe5a016-0d10-4451-9599-b28e8c202c6e\":{\"roots\":{\"references\":[{\"attributes\":{\"below\":[{\"id\":\"1095\",\"type\":\"LinearAxis\"}],\"center\":[{\"id\":\"1099\",\"type\":\"Grid\"},{\"id\":\"1104\",\"type\":\"Grid\"},{\"id\":\"1132\",\"type\":\"Legend\"}],\"left\":[{\"id\":\"1100\",\"type\":\"LinearAxis\"}],\"plot_height\":300,\"plot_width\":500,\"renderers\":[{\"id\":\"1123\",\"type\":\"GlyphRenderer\"}],\"title\":{\"id\":\"1125\",\"type\":\"Title\"},\"toolbar\":{\"id\":\"1111\",\"type\":\"Toolbar\"},\"x_range\":{\"id\":\"1087\",\"type\":\"DataRange1d\"},\"x_scale\":{\"id\":\"1091\",\"type\":\"LinearScale\"},\"y_range\":{\"id\":\"1089\",\"type\":\"DataRange1d\"},\"y_scale\":{\"id\":\"1093\",\"type\":\"LinearScale\"}},\"id\":\"1086\",\"subtype\":\"Figure\",\"type\":\"Plot\"},{\"attributes\":{},\"id\":\"1130\",\"type\":\"BasicTickFormatter\"},{\"attributes\":{\"formatter\":{\"id\":\"1130\",\"type\":\"BasicTickFormatter\"},\"ticker\":{\"id\":\"1101\",\"type\":\"BasicTicker\"}},\"id\":\"1100\",\"type\":\"LinearAxis\"},{\"attributes\":{\"fill_alpha\":{\"value\":0.5},\"fill_color\":{\"field\":\"grade\",\"transform\":{\"id\":\"1118\",\"type\":\"CategoricalColorMapper\"}},\"line_alpha\":{\"value\":0.5},\"line_color\":{\"field\":\"grade\",\"transform\":{\"id\":\"1118\",\"type\":\"CategoricalColorMapper\"}},\"x\":{\"field\":\"expert_score\"},\"y\":{\"field\":\"netizen_score\"}},\"id\":\"1121\",\"type\":\"Scatter\"},{\"attributes\":{\"overlay\":{\"id\":\"1131\",\"type\":\"BoxAnnotation\"}},\"id\":\"1107\",\"type\":\"BoxZoomTool\"},{\"attributes\":{},\"id\":\"1108\",\"type\":\"SaveTool\"},{\"attributes\":{\"callback\":null,\"data\":{\"expert_score\":{\"__ndarray__\":\"hetRuB6FHkAAAAAAAAAbQAAAAAAAABhAAAAAAAAAHEDXo3A9CtcaQAAAAAAAABxArkfhehSuFkBxPQrXo3AbQAAAAAAAACFAAAAAAAAAFEAfhetRuB4iQAAAAAAAACBASOF6FK5HHUCPwvUoXI8eQFK4HoXrURlArkfhehSuIEAAAAAAAAAYQLgehetRuCBA7FG4HoXrHEBxPQrXo3AdQHsUrkfheh5AXI/C9ShcBUAAAAAAAAACQAAAAAAAAABAAAAAAAAAFEAzMzMzMzMbQHE9CtejcBdAMzMzMzMzG0BmZmZmZmYWQDMzMzMzMx5AAAAAAAAAFEAAAAAAAAAYQDMzMzMzMxtAKVyPwvUoG0AAAAAAAAAYQAAAAAAAABhAUrgehetRGUAAAAAAAAAUQIXrUbgehR1APQrXo3A9F0AAAAAAAAAgQLgehetRuBVArkfhehQuIEDXo3A9CtceQB+F61G4HiBAZmZmZmZmGkAAAAAAAAAXQFK4HoXrUR1AAAAAAAAAFkBSuB6F61EbQAAAAAAAABhAuB6F61G4HkBmZmZmZmYgQAAAAAAAABNA16NwPQrXGkAAAAAAAAAYQEjhehSuRxZASOF6FK5HHkDhehSuR+EZQHE9CtejcBlAAAAAAAAAGEDsUbgeheshQLgehetRuBhAAAAAAAAAHEAAAAAAAAAZQAAAAAAAAABAAAAAAAAAHECPwvUoXI8YQIXrUbgehRtA16NwPQrXFkBmZmZmZuYgQAAAAAAAABRAMzMzMzMzFUAAAAAAAAAbQGZmZmZmZhpAmpmZmZmZGUAAAAAAAAAWQD0K16NwPRRAAAAAAAAAHkC4HoXrUTgiQA==\",\"dtype\":\"float64\",\"shape\":[80]},\"genre\":[\"\\uc561\\uc158\",\"\\uc560\\ub2c8\\uba54\\uc774\\uc158\",\"\\uc561\\uc158\",\"\\ubbf8\\uc2a4\\ud130\\ub9ac\",\"\\uba5c\\ub85c/\\ub85c\\ub9e8\\uc2a4\",\"\\ub4dc\\ub77c\\ub9c8\",\"\\uc2a4\\ub9b4\\ub7ec\",\"\\ub4dc\\ub77c\\ub9c8\",\"\\ucf54\\ubbf8\\ub514\",\"\\ubc94\\uc8c4\",\"\\ub4dc\\ub77c\\ub9c8\",\"\\uc560\\ub2c8\\uba54\\uc774\\uc158\",\"\\uc560\\ub2c8\\uba54\\uc774\\uc158\",\"\\uc2a4\\ub9b4\\ub7ec\",\"\\uba5c\\ub85c/\\ub85c\\ub9e8\\uc2a4\",\"\\ub4dc\\ub77c\\ub9c8\",\"\\ubaa8\\ud5d8\",\"\\ubaa8\\ud5d8\",\"\\uc561\\uc158\",\"\\ucf54\\ubbf8\\ub514\",\"\\uc561\\uc158\",\"\\ub4dc\\ub77c\\ub9c8\",\"\\ub4dc\\ub77c\\ub9c8\",\"\\ucf54\\ubbf8\\ub514\",\"\\uc561\\uc158\",\"\\uc560\\ub2c8\\uba54\\uc774\\uc158\",\"\\ub4dc\\ub77c\\ub9c8\",\"\\ucf54\\ubbf8\\ub514\",\"\\ub4dc\\ub77c\\ub9c8\",\"\\uc560\\ub2c8\\uba54\\uc774\\uc158\",\"\\uba5c\\ub85c/\\ub85c\\ub9e8\\uc2a4\",\"\\ud310\\ud0c0\\uc9c0\",\"\\uba5c\\ub85c/\\ub85c\\ub9e8\\uc2a4\",\"\\ub4dc\\ub77c\\ub9c8\",\"\\ub4dc\\ub77c\\ub9c8\",\"\\uc560\\ub2c8\\uba54\\uc774\\uc158\",\"\\ubc94\\uc8c4\",\"\\ub4dc\\ub77c\\ub9c8\",\"SF\",\"\\ubc94\\uc8c4\",\"\\uba5c\\ub85c/\\ub85c\\ub9e8\\uc2a4\",\"\\ubc94\\uc8c4\",\"\\uc560\\ub2c8\\uba54\\uc774\\uc158\",\"\\uc560\\ub2c8\\uba54\\uc774\\uc158\",\"\\ub4dc\\ub77c\\ub9c8\",\"\\ub4dc\\ub77c\\ub9c8\",\"\\uc561\\uc158\",\"\\ub4dc\\ub77c\\ub9c8\",\"\\ubc94\\uc8c4\",\"\\ub4dc\\ub77c\\ub9c8\",\"\\uba5c\\ub85c/\\ub85c\\ub9e8\\uc2a4\",\"\\ub4dc\\ub77c\\ub9c8\",\"\\ub4dc\\ub77c\\ub9c8\",\"\\uba5c\\ub85c/\\ub85c\\ub9e8\\uc2a4\",\"\\ucf54\\ubbf8\\ub514\",\"\\uc560\\ub2c8\\uba54\\uc774\\uc158\",\"\\ub4dc\\ub77c\\ub9c8\",\"\\uba5c\\ub85c/\\ub85c\\ub9e8\\uc2a4\",\"\\uc560\\ub2c8\\uba54\\uc774\\uc158\",\"\\ub4dc\\ub77c\\ub9c8\",\"\\uba5c\\ub85c/\\ub85c\\ub9e8\\uc2a4\",\"\\ub4dc\\ub77c\\ub9c8\",\"\\ud310\\ud0c0\\uc9c0\",\"\\uba5c\\ub85c/\\ub85c\\ub9e8\\uc2a4\",\"\\ucf54\\ubbf8\\ub514\",\"\\uba5c\\ub85c/\\ub85c\\ub9e8\\uc2a4\",\"\\ubc94\\uc8c4\",\"\\ub4dc\\ub77c\\ub9c8\",\"\\uc561\\uc158\",\"\\ubc94\\uc8c4\",\"\\uba5c\\ub85c/\\ub85c\\ub9e8\\uc2a4\",\"\\uc804\\uc7c1\",\"\\uc561\\uc158\",\"\\ub4dc\\ub77c\\ub9c8\",\"\\uc561\\uc158\",\"\\uc560\\ub2c8\\uba54\\uc774\\uc158\",\"\\ub4dc\\ub77c\\ub9c8\",\"\\uc2a4\\ub9b4\\ub7ec\",\"\\ub4dc\\ub77c\\ub9c8\",\"\\ubc94\\uc8c4\"],\"grade\":[\"12\\uc138 \\uad00\\ub78c\\uac00\",\"\\uc804\\uccb4 \\uad00\\ub78c\\uac00\",\"12\\uc138 \\uad00\\ub78c\\uac00\",\"12\\uc138 \\uad00\\ub78c\\uac00\",\"12\\uc138 \\uad00\\ub78c\\uac00\",\"12\\uc138 \\uad00\\ub78c\\uac00\",\"15\\uc138 \\uad00\\ub78c\\uac00\",\"12\\uc138 \\uad00\\ub78c\\uac00\",\"15\\uc138 \\uad00\\ub78c\\uac00\",\"15\\uc138 \\uad00\\ub78c\\uac00\",\"15\\uc138 \\uad00\\ub78c\\uac00\",\"\\uc804\\uccb4 \\uad00\\ub78c\\uac00\",\"\\uc804\\uccb4 \\uad00\\ub78c\\uac00\",\"15\\uc138 \\uad00\\ub78c\\uac00\",\"15\\uc138 \\uad00\\ub78c\\uac00\",\"12\\uc138 \\uad00\\ub78c\\uac00\",\"\\uc804\\uccb4 \\uad00\\ub78c\\uac00\",\"\\uc804\\uccb4 \\uad00\\ub78c\\uac00\",\"12\\uc138 \\uad00\\ub78c\\uac00\",\"\\uccad\\uc18c\\ub144 \\uad00\\ub78c\\ubd88\\uac00\",\"12\\uc138 \\uad00\\ub78c\\uac00\",\"\\uccad\\uc18c\\ub144 \\uad00\\ub78c\\ubd88\\uac00\",\"\\uccad\\uc18c\\ub144 \\uad00\\ub78c\\ubd88\\uac00\",\"\\uccad\\uc18c\\ub144 \\uad00\\ub78c\\ubd88\\uac00\",\"15\\uc138 \\uad00\\ub78c\\uac00\",\"12\\uc138 \\uad00\\ub78c\\uac00\",\"12\\uc138 \\uad00\\ub78c\\uac00\",\"15\\uc138 \\uad00\\ub78c\\uac00\",\"15\\uc138 \\uad00\\ub78c\\uac00\",\"12\\uc138 \\uad00\\ub78c\\uac00\",\"12\\uc138 \\uad00\\ub78c\\uac00\",\"\\uc804\\uccb4 \\uad00\\ub78c\\uac00\",\"15\\uc138 \\uad00\\ub78c\\uac00\",\"12\\uc138 \\uad00\\ub78c\\uac00\",\"12\\uc138 \\uad00\\ub78c\\uac00\",\"\\uc804\\uccb4 \\uad00\\ub78c\\uac00\",\"\\uccad\\uc18c\\ub144 \\uad00\\ub78c\\ubd88\\uac00\",\"12\\uc138 \\uad00\\ub78c\\uac00\",\"12\\uc138 \\uad00\\ub78c\\uac00\",\"\\uccad\\uc18c\\ub144 \\uad00\\ub78c\\ubd88\\uac00\",\"12\\uc138 \\uad00\\ub78c\\uac00\",\"\\uccad\\uc18c\\ub144 \\uad00\\ub78c\\ubd88\\uac00\",\"\\uc804\\uccb4 \\uad00\\ub78c\\uac00\",\"\\uc804\\uccb4 \\uad00\\ub78c\\uac00\",\"12\\uc138 \\uad00\\ub78c\\uac00\",\"12\\uc138 \\uad00\\ub78c\\uac00\",\"15\\uc138 \\uad00\\ub78c\\uac00\",\"15\\uc138 \\uad00\\ub78c\\uac00\",\"15\\uc138 \\uad00\\ub78c\\uac00\",\"15\\uc138 \\uad00\\ub78c\\uac00\",\"15\\uc138 \\uad00\\ub78c\\uac00\",\"15\\uc138 \\uad00\\ub78c\\uac00\",\"\\uccad\\uc18c\\ub144 \\uad00\\ub78c\\ubd88\\uac00\",\"12\\uc138 \\uad00\\ub78c\\uac00\",\"12\\uc138 \\uad00\\ub78c\\uac00\",\"\\uc804\\uccb4 \\uad00\\ub78c\\uac00\",\"\\uccad\\uc18c\\ub144 \\uad00\\ub78c\\ubd88\\uac00\",\"\\uccad\\uc18c\\ub144 \\uad00\\ub78c\\ubd88\\uac00\",\"\\uc804\\uccb4 \\uad00\\ub78c\\uac00\",\"\\uc804\\uccb4 \\uad00\\ub78c\\uac00\",\"12\\uc138 \\uad00\\ub78c\\uac00\",\"\\uccad\\uc18c\\ub144 \\uad00\\ub78c\\ubd88\\uac00\",\"15\\uc138 \\uad00\\ub78c\\uac00\",\"15\\uc138 \\uad00\\ub78c\\uac00\",\"12\\uc138 \\uad00\\ub78c\\uac00\",\"\\uccad\\uc18c\\ub144 \\uad00\\ub78c\\ubd88\\uac00\",\"15\\uc138 \\uad00\\ub78c\\uac00\",\"12\\uc138 \\uad00\\ub78c\\uac00\",\"\\uccad\\uc18c\\ub144 \\uad00\\ub78c\\ubd88\\uac00\",\"\\uccad\\uc18c\\ub144 \\uad00\\ub78c\\ubd88\\uac00\",\"15\\uc138 \\uad00\\ub78c\\uac00\",\"12\\uc138 \\uad00\\ub78c\\uac00\",\"15\\uc138 \\uad00\\ub78c\\uac00\",\"12\\uc138 \\uad00\\ub78c\\uac00\",\"15\\uc138 \\uad00\\ub78c\\uac00\",\"\\uc804\\uccb4 \\uad00\\ub78c\\uac00\",\"12\\uc138 \\uad00\\ub78c\\uac00\",\"\\uccad\\uc18c\\ub144 \\uad00\\ub78c\\ubd88\\uac00\",\"12\\uc138 \\uad00\\ub78c\\uac00\",\"\\uccad\\uc18c\\ub144 \\uad00\\ub78c\\ubd88\\uac00\"],\"index\":[0,1,2,3,4,5,6,7,8,9,10,11,12,13,14,15,16,17,18,19,20,21,22,23,24,25,26,27,28,29,30,31,32,33,34,35,36,37,38,39,40,41,42,43,44,45,46,47,48,49,50,51,52,53,54,55,56,57,58,59,60,61,62,63,64,65,66,67,68,69,70,71,72,73,74,75,76,77,78,79],\"level_0\":[0,1,2,3,4,5,6,7,8,9,10,11,12,13,14,15,16,17,18,19,20,21,22,23,24,25,26,27,28,29,30,31,32,33,34,35,36,37,38,39,40,41,42,43,44,45,46,47,48,49,50,51,52,53,54,55,56,57,58,59,60,61,62,63,64,65,66,67,68,69,70,71,72,73,74,75,76,77,78,79],\"movie_id\":[181710,136873,187349,189000,182387,189111,175324,188060,188056,179159,161967,151728,100931,167613,182205,134963,163788,47528,174903,95333,136900,154598,144081,187390,163831,95762,167699,167651,96379,150198,137915,57095,92075,179482,177374,164907,188473,118954,159887,107373,24830,96951,101966,70457,103657,106360,183803,174830,163608,142632,39440,101950,98432,180381,73372,164907,113353,61101,97692,154449,157178,101962,100644,36843,118917,122009,179302,156464,181698,177967,38444,159806,178526,147092,100643,130849,187787,124031,134899,154298],\"movie_name\":[\"\\ud3ec\\ub4dc V \\ud398\\ub77c\\ub9ac\",\"\\uaca8\\uc6b8\\uc655\\uad6d 2\",\"\\uc96c\\ub9cc\\uc9c0: \\ub125\\uc2a4\\ud2b8 \\ub808\\ubca8\",\"\\ub098\\uc774\\ube0c\\uc2a4 \\uc544\\uc6c3\",\"\\uc724\\ud76c\\uc5d0\\uac8c\",\"\\ub450 \\uad50\\ud669\",\"\\ub098\\ub97c \\ucc3e\\uc544\\uc918\",\"\\ud30c\\ube44\\uc548\\ub290\\uc5d0 \\uad00\\ud55c \\uc9c4\\uc2e4\",\"\\uacb0\\ud63c \\uc774\\uc57c\\uae30\",\"\\uc2e0\\uc758 \\ud55c \\uc218: \\uadc0\\uc218\\ud3b8\",\"\\uae30\\uc0dd\\ucda9\",\"\\ucf54\\ucf54\",\"\\uaca8\\uc6b8\\uc655\\uad6d\",\"\\uc870\\ucee4\",\"\\uac00\\uc7a5 \\ubcf4\\ud1b5\\uc758 \\uc5f0\\uc560\",\"\\ub77c\\ub77c\\ub79c\\ub4dc\",\"\\uc54c\\ub77c\\ub518\",\"\\ud574\\ub9ac \\ud3ec\\ud130\\uc640 \\uc8fd\\uc74c\\uc758 \\uc131\\ubb3c - 2\\ubd80\",\"\\uc5d1\\uc2dc\\ud2b8\",\"\\ub354 \\uc6b8\\ud504 \\uc624\\ube0c \\uc6d4 \\uc2a4\\ud2b8\\ub9ac\\ud2b8\",\"\\uc5b4\\ubca4\\uc838\\uc2a4: \\uc5d4\\ub4dc\\uac8c\\uc784\",\"50\\uac00\\uc9c0 \\uadf8\\ub9bc\\uc790: \\ud574\\ubc29\",\"50\\uac00\\uc9c0 \\uadf8\\ub9bc\\uc790: \\uc2ec\\uc5f0\",\"\\uc544\\uc9c1 \\uc0ac\\ub791\\ud558\\uace0 \\uc788\\uc2b5\\ub2c8\\uae4c?\",\"\\uc5d4\\uc824 \\ud574\\uc988 \\ud3f4\\ub978\",\"\\ud53c\\ubd80\\uc0c9\\uae54=\\uafc0\\uc0c9\",\"\\ub9d0\\ubaa8\\uc774\",\"\\uadf9\\ud55c\\uc9c1\\uc5c5\",\"\\ube44\\uae34 \\uc5b4\\uac8c\\uc778\",\"\\ub108\\uc758 \\uc774\\ub984\\uc740.\",\"\\ubbf8 \\ube44\\ud3ec \\uc720\",\"\\ud574\\ub9ac \\ud3ec\\ud130\\uc640 \\ubd88\\uc0ac\\uc870 \\uae30\\uc0ac\\ub2e8\",\"\\uc5b4\\ubc14\\uc6c3 \\ud0c0\\uc784\",\"82\\ub144\\uc0dd \\uae40\\uc9c0\\uc601\",\"\\uc99d\\uc778\",\"\\ub808\\ub4dc\\uc288\\uc988\",\"\\ud5c8\\uc2ac\\ub7ec\",\"\\uc544\\ub378\\ub77c\\uc778 : \\uba48\\ucdb0\\uc9c4 \\uc2dc\\uac04\",\"\\uc560\\ub4dc \\uc544\\uc2a4\\ud2b8\\ub77c\",\"\\uc2e0\\uc758 \\ud55c \\uc218\",\"\\ub178\\ud305 \\ud790\",\"\\ud0c0\\uc9dc: \\uc6d0 \\uc544\\uc774\\ub4dc \\uc7ad\",\"\\ud1a0\\uc774 \\uc2a4\\ud1a0\\ub9ac 4\",\"\\ub4dc\\ub798\\uace4 \\uae38\\ub4e4\\uc774\\uae30\",\"\\ube0c\\ub8e8\\ud074\\ub9b0\",\"\\uc704\\ub300\\ud55c \\uc1fc\\ub9e8\",\"\\ud06c\\ub864\",\"\\uac00\\ubc84\\ub098\\uc6c0\",\"\\ub3c8\",\"\\ubbf8\\uc2a4 \\uc2ac\\ub85c\\uc6b4\",\"\\uc774\\ud504 \\uc628\\ub9ac\",\"\\uadf8\\ub140\",\"\\uac00\\uc7a5 \\ub530\\ub73b\\ud55c \\uc0c9, \\ube14\\ub8e8\",\"\\uc7a5\\ub09c\\uc2a4\\ub7f0 \\ud0a4\\uc2a4\",\"\\uc138 \\uc5bc\\uac04\\uc774\",\"\\ub808\\ub4dc\\uc288\\uc988\",\"\\uc778\\uac04\\uc911\\ub3c5\",\"\\uc0c9, \\uacc4\",\"\\ucff5\\ud478\\ud32c\\ub3543\",\"\\ub9ac\\ud2c0 \\ud3ec\\ub808\\uc2a4\\ud2b8\",\"\\ub098\\ub294 \\ub0b4\\uc77c, \\uc5b4\\uc81c\\uc758 \\ub108\\uc640 \\ub9cc\\ub09c\\ub2e4\",\"\\uce90\\ub864\",\"\\ud5dd\\uac70\\uac8c\\uc784:\\ubaa8\\ud0b9\\uc81c\\uc774\",\"\\ub7ec\\ube0c \\uc561\\uce04\\uc5bc\\ub9ac\",\"\\uc778\\ud134\",\"\\uc5b4\\uc6b0\\ub3d9: \\uc8fc\\uc778 \\uc5c6\\ub294 \\uaf43\",\"\\uce74\\uc13c\\ud0c0\",\"\\ubcf4\\ud5e4\\ubbf8\\uc548 \\ub7a9\\uc18c\\ub514\",\"\\uc874 \\uc705 3: \\ud30c\\ub77c\\ubca8\\ub8f8\",\"\\uc545\\uc778\\uc804\",\"\\uc774\\ud130\\ub110 \\uc120\\uc0e4\\uc778\",\"\\uc7a5\\uc0ac\\ub9ac : \\uc78a\\ud600\\uc9c4 \\uc601\\uc6c5\\ub4e4\",\"\\ubd09\\uc624\\ub3d9 \\uc804\\ud22c\",\"\\ud788\\ub4e0 \\ud53c\\uaca8\\uc2a4\",\"\\ud5dd\\uac70\\uac8c\\uc784 : \\ub354 \\ud30c\\uc774\\ub110\",\"\\ubaa8\\uc544\\ub098\",\"\\ub108\\ub97c \\ub9cc\\ub09c \\uc5ec\\ub984\",\"\\ub110 \\uae30\\ub2e4\\ub9ac\\uba70\",\"\\ub3d9\\uc8fc\",\"\\uc544\\uc774\\ub9ac\\uc2dc\\ub9e8\"],\"netizen_score\":{\"__ndarray__\":\"H4XrUbgeI0Bcj8L1KFwhQFK4HoXrURhAw/UoXI9CIkBcj8L1KFwiQGZmZmZm5iFAXI/C9ShcHEC4HoXrUbggQLgehetROCJAexSuR+F6H0BxPQrXo/AgQIXrUbgehSJAPQrXo3A9IkDNzMzMzEwhQEjhehSuRx9ArkfhehQuIUDD9Shcj8IiQB+F61G4niJAFK5H4XqUIECkcD0K1yMgQMP1KFyPwiJAw/UoXI/CH0CPwvUoXI8dQFyPwvUoXBxA7FG4HoXrIED2KFyPwvUhQK5H4XoULiJACtejcD0KIUCPwvUoXA8iQIXrUbgehSFAexSuR+H6IEDsUbgehesbQFK4HoXrUSJAw/UoXI/CGkApXI/C9SgiQPYoXI/CdSJAw/UoXI/CG0DNzMzMzEwgQOxRuB6F6xxAj8L1KFwPIEApXI/C9SgiQGZmZmZmZhVAFK5H4XoUIkApXI/C9agiQLgehetROCBAw/UoXI/CIkDNzMzMzMwbQK5H4XoULiNApHA9CtejHUCkcD0K16MiQKRwPQrXIyJAhetRuB4FIUAUrkfhepQhQHE9CtejcCBAMzMzMzOzIkD2KFyPwnUiQM3MzMzMzBpAFK5H4XoUIUDD9Shcj0IhQArXo3A9iiFArkfhehSuIUCkcD0K1yMhQClcj8L1KB5AZmZmZmbmIUB7FK5H4fohQBSuR+F6FBNACtejcD0KHUDXo3A9CtciQBSuR+F6FCBAj8L1KFyPH0C4HoXrUTgiQIXrUbgehSBApHA9CtejH0C4HoXrUbgiQHsUrkfheh5AUrgehetRIkAzMzMzMzMgQEjhehSuRx5APQrXo3C9IkBSuB6F69EhQA==\",\"dtype\":\"float64\",\"shape\":[80]}},\"selected\":{\"id\":\"1149\",\"type\":\"Selection\"},\"selection_policy\":{\"id\":\"1150\",\"type\":\"UnionRenderers\"}},\"id\":\"1119\",\"type\":\"ColumnDataSource\"},{\"attributes\":{\"bottom_units\":\"screen\",\"fill_alpha\":{\"value\":0.5},\"fill_color\":{\"value\":\"lightgrey\"},\"left_units\":\"screen\",\"level\":\"overlay\",\"line_alpha\":{\"value\":1.0},\"line_color\":{\"value\":\"black\"},\"line_dash\":[4,4],\"line_width\":{\"value\":2},\"render_mode\":\"css\",\"right_units\":\"screen\",\"top_units\":\"screen\"},\"id\":\"1131\",\"type\":\"BoxAnnotation\"},{\"attributes\":{\"formatter\":{\"id\":\"1128\",\"type\":\"BasicTickFormatter\"},\"ticker\":{\"id\":\"1096\",\"type\":\"BasicTicker\"}},\"id\":\"1095\",\"type\":\"LinearAxis\"},{\"attributes\":{},\"id\":\"1109\",\"type\":\"ResetTool\"},{\"attributes\":{\"text\":\"\"},\"id\":\"1125\",\"type\":\"Title\"},{\"attributes\":{\"ticker\":{\"id\":\"1096\",\"type\":\"BasicTicker\"}},\"id\":\"1099\",\"type\":\"Grid\"},{\"attributes\":{},\"id\":\"1149\",\"type\":\"Selection\"},{\"attributes\":{\"factors\":[\"12\\uc138 \\uad00\\ub78c\\uac00\",\"15\\uc138 \\uad00\\ub78c\\uac00\",\"\\uc804\\uccb4 \\uad00\\ub78c\\uac00\",\"\\uccad\\uc18c\\ub144 \\uad00\\ub78c\\ubd88\\uac00\"],\"palette\":[\"black\",\"orange\",\"green\",\"red\"]},\"id\":\"1118\",\"type\":\"CategoricalColorMapper\"},{\"attributes\":{},\"id\":\"1105\",\"type\":\"PanTool\"},{\"attributes\":{\"source\":{\"id\":\"1119\",\"type\":\"ColumnDataSource\"}},\"id\":\"1124\",\"type\":\"CDSView\"},{\"attributes\":{\"fill_alpha\":{\"value\":0.1},\"fill_color\":{\"value\":\"#1f77b4\"},\"line_alpha\":{\"value\":0.1},\"line_color\":{\"value\":\"#1f77b4\"},\"x\":{\"field\":\"expert_score\"},\"y\":{\"field\":\"netizen_score\"}},\"id\":\"1122\",\"type\":\"Scatter\"},{\"attributes\":{},\"id\":\"1150\",\"type\":\"UnionRenderers\"},{\"attributes\":{\"callback\":null},\"id\":\"1087\",\"type\":\"DataRange1d\"},{\"attributes\":{},\"id\":\"1128\",\"type\":\"BasicTickFormatter\"},{\"attributes\":{},\"id\":\"1091\",\"type\":\"LinearScale\"},{\"attributes\":{},\"id\":\"1101\",\"type\":\"BasicTicker\"},{\"attributes\":{\"dimension\":1,\"ticker\":{\"id\":\"1101\",\"type\":\"BasicTicker\"}},\"id\":\"1104\",\"type\":\"Grid\"},{\"attributes\":{},\"id\":\"1106\",\"type\":\"WheelZoomTool\"},{\"attributes\":{\"callback\":null},\"id\":\"1089\",\"type\":\"DataRange1d\"},{\"attributes\":{\"label\":{\"field\":\"grade\"},\"renderers\":[{\"id\":\"1123\",\"type\":\"GlyphRenderer\"}]},\"id\":\"1133\",\"type\":\"LegendItem\"},{\"attributes\":{\"active_drag\":\"auto\",\"active_inspect\":\"auto\",\"active_multi\":null,\"active_scroll\":\"auto\",\"active_tap\":\"auto\",\"tools\":[{\"id\":\"1105\",\"type\":\"PanTool\"},{\"id\":\"1106\",\"type\":\"WheelZoomTool\"},{\"id\":\"1107\",\"type\":\"BoxZoomTool\"},{\"id\":\"1108\",\"type\":\"SaveTool\"},{\"id\":\"1109\",\"type\":\"ResetTool\"},{\"id\":\"1110\",\"type\":\"HelpTool\"}]},\"id\":\"1111\",\"type\":\"Toolbar\"},{\"attributes\":{\"items\":[{\"id\":\"1133\",\"type\":\"LegendItem\"}]},\"id\":\"1132\",\"type\":\"Legend\"},{\"attributes\":{},\"id\":\"1093\",\"type\":\"LinearScale\"},{\"attributes\":{},\"id\":\"1096\",\"type\":\"BasicTicker\"},{\"attributes\":{\"data_source\":{\"id\":\"1119\",\"type\":\"ColumnDataSource\"},\"glyph\":{\"id\":\"1121\",\"type\":\"Scatter\"},\"hover_glyph\":null,\"muted_glyph\":null,\"nonselection_glyph\":{\"id\":\"1122\",\"type\":\"Scatter\"},\"selection_glyph\":null,\"view\":{\"id\":\"1124\",\"type\":\"CDSView\"}},\"id\":\"1123\",\"type\":\"GlyphRenderer\"},{\"attributes\":{},\"id\":\"1110\",\"type\":\"HelpTool\"}],\"root_ids\":[\"1086\"]},\"title\":\"Bokeh Application\",\"version\":\"1.3.4\"}};\n",
       "  var render_items = [{\"docid\":\"ebe5a016-0d10-4451-9599-b28e8c202c6e\",\"roots\":{\"1086\":\"0711f455-7dad-4244-b4e2-7184df1091ca\"}}];\n",
       "  root.Bokeh.embed.embed_items_notebook(docs_json, render_items);\n",
       "\n",
       "  }\n",
       "  if (root.Bokeh !== undefined) {\n",
       "    embed_document(root);\n",
       "  } else {\n",
       "    var attempts = 0;\n",
       "    var timer = setInterval(function(root) {\n",
       "      if (root.Bokeh !== undefined) {\n",
       "        embed_document(root);\n",
       "        clearInterval(timer);\n",
       "      }\n",
       "      attempts++;\n",
       "      if (attempts > 100) {\n",
       "        console.log(\"Bokeh: ERROR: Unable to run BokehJS code because BokehJS library is missing\");\n",
       "        clearInterval(timer);\n",
       "      }\n",
       "    }, 10, root)\n",
       "  }\n",
       "})(window);"
      ],
      "application/vnd.bokehjs_exec.v0+json": ""
     },
     "metadata": {
      "application/vnd.bokehjs_exec.v0+json": {
       "id": "1086"
      }
     },
     "output_type": "display_data"
    }
   ],
   "source": [
    "from bokeh.transform import factor_cmap, factor_mark\n",
    "\n",
    "temp_grade = ['12세 관람가', '15세 관람가', '전체 관람가', '청소년 관람불가']\n",
    "colors = ['black', 'orange', 'green', 'red']\n",
    "\n",
    "p = figure(plot_width=500, plot_height=300)\n",
    "\n",
    "p.scatter(x=\"expert_score\", y=\"netizen_score\",alpha=0.5, source=df,\n",
    "    color=factor_cmap('grade', colors, temp_grade), legend='grade')\n",
    "\n",
    "show(p)\n",
    "\n"
   ]
  },
  {
   "cell_type": "markdown",
   "metadata": {},
   "source": [
    "# 12세 관람가"
   ]
  },
  {
   "cell_type": "code",
   "execution_count": 3,
   "metadata": {},
   "outputs": [
    {
     "data": {
      "text/html": [
       "\n",
       "\n",
       "\n",
       "\n",
       "\n",
       "\n",
       "  <div class=\"bk-root\" id=\"c0575ceb-13cc-4ff0-b918-559d57838915\" data-root-id=\"1205\"></div>\n"
      ]
     },
     "metadata": {},
     "output_type": "display_data"
    },
    {
     "data": {
      "application/javascript": [
       "(function(root) {\n",
       "  function embed_document(root) {\n",
       "    \n",
       "  var docs_json = {\"b6b4d5b9-54f9-4a95-a7a5-6302f0803974\":{\"roots\":{\"references\":[{\"attributes\":{\"below\":[{\"id\":\"1214\",\"type\":\"LinearAxis\"}],\"center\":[{\"id\":\"1218\",\"type\":\"Grid\"},{\"id\":\"1223\",\"type\":\"Grid\"}],\"left\":[{\"id\":\"1219\",\"type\":\"LinearAxis\"}],\"plot_height\":300,\"plot_width\":500,\"renderers\":[{\"id\":\"1241\",\"type\":\"GlyphRenderer\"}],\"title\":{\"id\":\"1243\",\"type\":\"Title\"},\"toolbar\":{\"id\":\"1230\",\"type\":\"Toolbar\"},\"x_range\":{\"id\":\"1206\",\"type\":\"DataRange1d\"},\"x_scale\":{\"id\":\"1210\",\"type\":\"LinearScale\"},\"y_range\":{\"id\":\"1208\",\"type\":\"DataRange1d\"},\"y_scale\":{\"id\":\"1212\",\"type\":\"LinearScale\"}},\"id\":\"1205\",\"subtype\":\"Figure\",\"type\":\"Plot\"},{\"attributes\":{},\"id\":\"1227\",\"type\":\"SaveTool\"},{\"attributes\":{},\"id\":\"1210\",\"type\":\"LinearScale\"},{\"attributes\":{\"formatter\":{\"id\":\"1264\",\"type\":\"BasicTickFormatter\"},\"ticker\":{\"id\":\"1215\",\"type\":\"BasicTicker\"}},\"id\":\"1214\",\"type\":\"LinearAxis\"},{\"attributes\":{},\"id\":\"1225\",\"type\":\"WheelZoomTool\"},{\"attributes\":{},\"id\":\"1229\",\"type\":\"HelpTool\"},{\"attributes\":{\"data_source\":{\"id\":\"1237\",\"type\":\"ColumnDataSource\"},\"glyph\":{\"id\":\"1239\",\"type\":\"Scatter\"},\"hover_glyph\":null,\"muted_glyph\":null,\"nonselection_glyph\":{\"id\":\"1240\",\"type\":\"Scatter\"},\"selection_glyph\":null,\"view\":{\"id\":\"1242\",\"type\":\"CDSView\"}},\"id\":\"1241\",\"type\":\"GlyphRenderer\"},{\"attributes\":{\"callback\":null,\"data\":{\"expert_score\":{\"__ndarray__\":\"hetRuB6FHkAAAAAAAAAYQAAAAAAAABxA16NwPQrXGkAAAAAAAAAcQHE9CtejcBtArkfhehSuIEDsUbgehescQHsUrkfheh5AMzMzMzMzG0BxPQrXo3AXQDMzMzMzMx5AAAAAAAAAFEApXI/C9SgbQAAAAAAAABhAAAAAAAAAFECF61G4HoUdQAAAAAAAACBAH4XrUbgeIEBmZmZmZmYaQAAAAAAAABNA16NwPQrXGkAAAAAAAAAYQAAAAAAAABlAj8L1KFyPGEAAAAAAAAAUQAAAAAAAABtAAAAAAAAAFkAAAAAAAAAeQA==\",\"dtype\":\"float64\",\"shape\":[29]},\"genre\":[\"\\uc561\\uc158\",\"\\uc561\\uc158\",\"\\ubbf8\\uc2a4\\ud130\\ub9ac\",\"\\uba5c\\ub85c/\\ub85c\\ub9e8\\uc2a4\",\"\\ub4dc\\ub77c\\ub9c8\",\"\\ub4dc\\ub77c\\ub9c8\",\"\\ub4dc\\ub77c\\ub9c8\",\"\\uc561\\uc158\",\"\\uc561\\uc158\",\"\\uc560\\ub2c8\\uba54\\uc774\\uc158\",\"\\ub4dc\\ub77c\\ub9c8\",\"\\uc560\\ub2c8\\uba54\\uc774\\uc158\",\"\\uba5c\\ub85c/\\ub85c\\ub9e8\\uc2a4\",\"\\ub4dc\\ub77c\\ub9c8\",\"\\ub4dc\\ub77c\\ub9c8\",\"\\ub4dc\\ub77c\\ub9c8\",\"SF\",\"\\uba5c\\ub85c/\\ub85c\\ub9e8\\uc2a4\",\"\\ub4dc\\ub77c\\ub9c8\",\"\\ub4dc\\ub77c\\ub9c8\",\"\\uba5c\\ub85c/\\ub85c\\ub9e8\\uc2a4\",\"\\ucf54\\ubbf8\\ub514\",\"\\uba5c\\ub85c/\\ub85c\\ub9e8\\uc2a4\",\"\\ucf54\\ubbf8\\ub514\",\"\\ub4dc\\ub77c\\ub9c8\",\"\\uc804\\uc7c1\",\"\\ub4dc\\ub77c\\ub9c8\",\"\\ub4dc\\ub77c\\ub9c8\",\"\\ub4dc\\ub77c\\ub9c8\"],\"grade\":[\"12\\uc138 \\uad00\\ub78c\\uac00\",\"12\\uc138 \\uad00\\ub78c\\uac00\",\"12\\uc138 \\uad00\\ub78c\\uac00\",\"12\\uc138 \\uad00\\ub78c\\uac00\",\"12\\uc138 \\uad00\\ub78c\\uac00\",\"12\\uc138 \\uad00\\ub78c\\uac00\",\"12\\uc138 \\uad00\\ub78c\\uac00\",\"12\\uc138 \\uad00\\ub78c\\uac00\",\"12\\uc138 \\uad00\\ub78c\\uac00\",\"12\\uc138 \\uad00\\ub78c\\uac00\",\"12\\uc138 \\uad00\\ub78c\\uac00\",\"12\\uc138 \\uad00\\ub78c\\uac00\",\"12\\uc138 \\uad00\\ub78c\\uac00\",\"12\\uc138 \\uad00\\ub78c\\uac00\",\"12\\uc138 \\uad00\\ub78c\\uac00\",\"12\\uc138 \\uad00\\ub78c\\uac00\",\"12\\uc138 \\uad00\\ub78c\\uac00\",\"12\\uc138 \\uad00\\ub78c\\uac00\",\"12\\uc138 \\uad00\\ub78c\\uac00\",\"12\\uc138 \\uad00\\ub78c\\uac00\",\"12\\uc138 \\uad00\\ub78c\\uac00\",\"12\\uc138 \\uad00\\ub78c\\uac00\",\"12\\uc138 \\uad00\\ub78c\\uac00\",\"12\\uc138 \\uad00\\ub78c\\uac00\",\"12\\uc138 \\uad00\\ub78c\\uac00\",\"12\\uc138 \\uad00\\ub78c\\uac00\",\"12\\uc138 \\uad00\\ub78c\\uac00\",\"12\\uc138 \\uad00\\ub78c\\uac00\",\"12\\uc138 \\uad00\\ub78c\\uac00\"],\"index\":[0,2,3,4,5,7,15,18,20,25,26,29,30,33,34,37,38,40,44,45,53,54,60,64,67,71,73,76,78],\"level_0\":[0,2,3,4,5,7,15,18,20,25,26,29,30,33,34,37,38,40,44,45,53,54,60,64,67,71,73,76,78],\"movie_id\":[181710,187349,189000,182387,189111,188060,134963,174903,136900,95762,167699,150198,137915,179482,177374,118954,159887,24830,103657,106360,180381,73372,157178,118917,156464,159806,147092,187787,134899],\"movie_name\":[\"\\ud3ec\\ub4dc V \\ud398\\ub77c\\ub9ac\",\"\\uc96c\\ub9cc\\uc9c0: \\ub125\\uc2a4\\ud2b8 \\ub808\\ubca8\",\"\\ub098\\uc774\\ube0c\\uc2a4 \\uc544\\uc6c3\",\"\\uc724\\ud76c\\uc5d0\\uac8c\",\"\\ub450 \\uad50\\ud669\",\"\\ud30c\\ube44\\uc548\\ub290\\uc5d0 \\uad00\\ud55c \\uc9c4\\uc2e4\",\"\\ub77c\\ub77c\\ub79c\\ub4dc\",\"\\uc5d1\\uc2dc\\ud2b8\",\"\\uc5b4\\ubca4\\uc838\\uc2a4: \\uc5d4\\ub4dc\\uac8c\\uc784\",\"\\ud53c\\ubd80\\uc0c9\\uae54=\\uafc0\\uc0c9\",\"\\ub9d0\\ubaa8\\uc774\",\"\\ub108\\uc758 \\uc774\\ub984\\uc740.\",\"\\ubbf8 \\ube44\\ud3ec \\uc720\",\"82\\ub144\\uc0dd \\uae40\\uc9c0\\uc601\",\"\\uc99d\\uc778\",\"\\uc544\\ub378\\ub77c\\uc778 : \\uba48\\ucdb0\\uc9c4 \\uc2dc\\uac04\",\"\\uc560\\ub4dc \\uc544\\uc2a4\\ud2b8\\ub77c\",\"\\ub178\\ud305 \\ud790\",\"\\ube0c\\ub8e8\\ud074\\ub9b0\",\"\\uc704\\ub300\\ud55c \\uc1fc\\ub9e8\",\"\\uc7a5\\ub09c\\uc2a4\\ub7f0 \\ud0a4\\uc2a4\",\"\\uc138 \\uc5bc\\uac04\\uc774\",\"\\ub098\\ub294 \\ub0b4\\uc77c, \\uc5b4\\uc81c\\uc758 \\ub108\\uc640 \\ub9cc\\ub09c\\ub2e4\",\"\\uc778\\ud134\",\"\\ubcf4\\ud5e4\\ubbf8\\uc548 \\ub7a9\\uc18c\\ub514\",\"\\uc7a5\\uc0ac\\ub9ac : \\uc78a\\ud600\\uc9c4 \\uc601\\uc6c5\\ub4e4\",\"\\ud788\\ub4e0 \\ud53c\\uaca8\\uc2a4\",\"\\ub108\\ub97c \\ub9cc\\ub09c \\uc5ec\\ub984\",\"\\ub3d9\\uc8fc\"],\"netizen_score\":{\"__ndarray__\":\"H4XrUbgeI0BSuB6F61EYQMP1KFyPQiJAXI/C9ShcIkBmZmZmZuYhQLgehetRuCBArkfhehQuIUAUrkfhepQgQMP1KFyPwiJA9ihcj8L1IUCuR+F6FC4iQIXrUbgehSFAexSuR+H6IEDD9Shcj8IaQClcj8L1KCJAzczMzMxMIEDsUbgehescQClcj8L1KCJAuB6F61E4IEDD9Shcj8IiQHE9CtejcCBAMzMzMzOzIkCuR+F6FK4hQHsUrkfh+iFA16NwPQrXIkCF61G4HoUgQLgehetRuCJAMzMzMzMzIEA9CtejcL0iQA==\",\"dtype\":\"float64\",\"shape\":[29]}},\"selected\":{\"id\":\"1268\",\"type\":\"Selection\"},\"selection_policy\":{\"id\":\"1269\",\"type\":\"UnionRenderers\"}},\"id\":\"1237\",\"type\":\"ColumnDataSource\"},{\"attributes\":{},\"id\":\"1264\",\"type\":\"BasicTickFormatter\"},{\"attributes\":{},\"id\":\"1268\",\"type\":\"Selection\"},{\"attributes\":{\"text\":\"12\\uc138 \\uad00\\ub78c\\uac00\\uc758 \\ud3c9\\uc810(x\\ucd95\\uc774 \\uc804\\ubb38\\uac00 \\ud3c9\\uc810,y\\ucd95\\uc774 \\ub124\\ud2f0\\uc98c \\ud3c9\\uc810)\"},\"id\":\"1243\",\"type\":\"Title\"},{\"attributes\":{},\"id\":\"1228\",\"type\":\"ResetTool\"},{\"attributes\":{},\"id\":\"1266\",\"type\":\"BasicTickFormatter\"},{\"attributes\":{\"ticker\":{\"id\":\"1215\",\"type\":\"BasicTicker\"}},\"id\":\"1218\",\"type\":\"Grid\"},{\"attributes\":{\"dimension\":1,\"ticker\":{\"id\":\"1220\",\"type\":\"BasicTicker\"}},\"id\":\"1223\",\"type\":\"Grid\"},{\"attributes\":{\"fill_alpha\":{\"value\":0.1},\"fill_color\":{\"value\":\"#1f77b4\"},\"line_alpha\":{\"value\":0.1},\"line_color\":{\"value\":\"#1f77b4\"},\"x\":{\"field\":\"expert_score\"},\"y\":{\"field\":\"netizen_score\"}},\"id\":\"1240\",\"type\":\"Scatter\"},{\"attributes\":{},\"id\":\"1215\",\"type\":\"BasicTicker\"},{\"attributes\":{\"active_drag\":\"auto\",\"active_inspect\":\"auto\",\"active_multi\":null,\"active_scroll\":\"auto\",\"active_tap\":\"auto\",\"tools\":[{\"id\":\"1224\",\"type\":\"PanTool\"},{\"id\":\"1225\",\"type\":\"WheelZoomTool\"},{\"id\":\"1226\",\"type\":\"BoxZoomTool\"},{\"id\":\"1227\",\"type\":\"SaveTool\"},{\"id\":\"1228\",\"type\":\"ResetTool\"},{\"id\":\"1229\",\"type\":\"HelpTool\"}]},\"id\":\"1230\",\"type\":\"Toolbar\"},{\"attributes\":{\"callback\":null},\"id\":\"1208\",\"type\":\"DataRange1d\"},{\"attributes\":{\"overlay\":{\"id\":\"1267\",\"type\":\"BoxAnnotation\"}},\"id\":\"1226\",\"type\":\"BoxZoomTool\"},{\"attributes\":{},\"id\":\"1269\",\"type\":\"UnionRenderers\"},{\"attributes\":{\"formatter\":{\"id\":\"1266\",\"type\":\"BasicTickFormatter\"},\"ticker\":{\"id\":\"1220\",\"type\":\"BasicTicker\"}},\"id\":\"1219\",\"type\":\"LinearAxis\"},{\"attributes\":{\"fill_alpha\":{\"value\":0.5},\"fill_color\":{\"value\":\"black\"},\"line_alpha\":{\"value\":0.5},\"x\":{\"field\":\"expert_score\"},\"y\":{\"field\":\"netizen_score\"}},\"id\":\"1239\",\"type\":\"Scatter\"},{\"attributes\":{},\"id\":\"1212\",\"type\":\"LinearScale\"},{\"attributes\":{},\"id\":\"1220\",\"type\":\"BasicTicker\"},{\"attributes\":{\"bottom_units\":\"screen\",\"fill_alpha\":{\"value\":0.5},\"fill_color\":{\"value\":\"lightgrey\"},\"left_units\":\"screen\",\"level\":\"overlay\",\"line_alpha\":{\"value\":1.0},\"line_color\":{\"value\":\"black\"},\"line_dash\":[4,4],\"line_width\":{\"value\":2},\"render_mode\":\"css\",\"right_units\":\"screen\",\"top_units\":\"screen\"},\"id\":\"1267\",\"type\":\"BoxAnnotation\"},{\"attributes\":{},\"id\":\"1224\",\"type\":\"PanTool\"},{\"attributes\":{\"source\":{\"id\":\"1237\",\"type\":\"ColumnDataSource\"}},\"id\":\"1242\",\"type\":\"CDSView\"},{\"attributes\":{\"callback\":null},\"id\":\"1206\",\"type\":\"DataRange1d\"}],\"root_ids\":[\"1205\"]},\"title\":\"Bokeh Application\",\"version\":\"1.3.4\"}};\n",
       "  var render_items = [{\"docid\":\"b6b4d5b9-54f9-4a95-a7a5-6302f0803974\",\"roots\":{\"1205\":\"c0575ceb-13cc-4ff0-b918-559d57838915\"}}];\n",
       "  root.Bokeh.embed.embed_items_notebook(docs_json, render_items);\n",
       "\n",
       "  }\n",
       "  if (root.Bokeh !== undefined) {\n",
       "    embed_document(root);\n",
       "  } else {\n",
       "    var attempts = 0;\n",
       "    var timer = setInterval(function(root) {\n",
       "      if (root.Bokeh !== undefined) {\n",
       "        embed_document(root);\n",
       "        clearInterval(timer);\n",
       "      }\n",
       "      attempts++;\n",
       "      if (attempts > 100) {\n",
       "        console.log(\"Bokeh: ERROR: Unable to run BokehJS code because BokehJS library is missing\");\n",
       "        clearInterval(timer);\n",
       "      }\n",
       "    }, 10, root)\n",
       "  }\n",
       "})(window);"
      ],
      "application/vnd.bokehjs_exec.v0+json": ""
     },
     "metadata": {
      "application/vnd.bokehjs_exec.v0+json": {
       "id": "1205"
      }
     },
     "output_type": "display_data"
    }
   ],
   "source": [
    "from bokeh.models import Title\n",
    "\n",
    "p = figure(plot_width=500, plot_height=300)\n",
    "\n",
    "p.scatter(x=\"expert_score\", y=\"netizen_score\",alpha=0.5, source=see_12_frame,\n",
    "    color='black')\n",
    "p.title = Title(text='12세 관람가의 평점(x축이 전문가 평점,y축이 네티즌 평점)')\n",
    "show(p)"
   ]
  },
  {
   "cell_type": "markdown",
   "metadata": {},
   "source": [
    "# 15세 관람가"
   ]
  },
  {
   "cell_type": "code",
   "execution_count": 4,
   "metadata": {},
   "outputs": [
    {
     "data": {
      "text/html": [
       "\n",
       "\n",
       "\n",
       "\n",
       "\n",
       "\n",
       "  <div class=\"bk-root\" id=\"8036a171-108d-41ab-a173-4833427b4faa\" data-root-id=\"1318\"></div>\n"
      ]
     },
     "metadata": {},
     "output_type": "display_data"
    },
    {
     "data": {
      "application/javascript": [
       "(function(root) {\n",
       "  function embed_document(root) {\n",
       "    \n",
       "  var docs_json = {\"92690b70-00d2-4646-98bb-90d5fd8fa70c\":{\"roots\":{\"references\":[{\"attributes\":{\"below\":[{\"id\":\"1327\",\"type\":\"LinearAxis\"}],\"center\":[{\"id\":\"1331\",\"type\":\"Grid\"},{\"id\":\"1336\",\"type\":\"Grid\"}],\"left\":[{\"id\":\"1332\",\"type\":\"LinearAxis\"}],\"plot_height\":300,\"plot_width\":500,\"renderers\":[{\"id\":\"1354\",\"type\":\"GlyphRenderer\"}],\"title\":{\"id\":\"1356\",\"type\":\"Title\"},\"toolbar\":{\"id\":\"1343\",\"type\":\"Toolbar\"},\"x_range\":{\"id\":\"1319\",\"type\":\"DataRange1d\"},\"x_scale\":{\"id\":\"1323\",\"type\":\"LinearScale\"},\"y_range\":{\"id\":\"1321\",\"type\":\"DataRange1d\"},\"y_scale\":{\"id\":\"1325\",\"type\":\"LinearScale\"}},\"id\":\"1318\",\"subtype\":\"Figure\",\"type\":\"Plot\"},{\"attributes\":{},\"id\":\"1338\",\"type\":\"WheelZoomTool\"},{\"attributes\":{\"bottom_units\":\"screen\",\"fill_alpha\":{\"value\":0.5},\"fill_color\":{\"value\":\"lightgrey\"},\"left_units\":\"screen\",\"level\":\"overlay\",\"line_alpha\":{\"value\":1.0},\"line_color\":{\"value\":\"black\"},\"line_dash\":[4,4],\"line_width\":{\"value\":2},\"render_mode\":\"css\",\"right_units\":\"screen\",\"top_units\":\"screen\"},\"id\":\"1388\",\"type\":\"BoxAnnotation\"},{\"attributes\":{},\"id\":\"1325\",\"type\":\"LinearScale\"},{\"attributes\":{},\"id\":\"1328\",\"type\":\"BasicTicker\"},{\"attributes\":{\"callback\":null},\"id\":\"1319\",\"type\":\"DataRange1d\"},{\"attributes\":{\"callback\":null},\"id\":\"1321\",\"type\":\"DataRange1d\"},{\"attributes\":{},\"id\":\"1337\",\"type\":\"PanTool\"},{\"attributes\":{\"formatter\":{\"id\":\"1387\",\"type\":\"BasicTickFormatter\"},\"ticker\":{\"id\":\"1333\",\"type\":\"BasicTicker\"}},\"id\":\"1332\",\"type\":\"LinearAxis\"},{\"attributes\":{},\"id\":\"1385\",\"type\":\"BasicTickFormatter\"},{\"attributes\":{\"fill_alpha\":{\"value\":0.1},\"fill_color\":{\"value\":\"#1f77b4\"},\"line_alpha\":{\"value\":0.1},\"line_color\":{\"value\":\"#1f77b4\"},\"x\":{\"field\":\"expert_score\"},\"y\":{\"field\":\"netizen_score\"}},\"id\":\"1353\",\"type\":\"Scatter\"},{\"attributes\":{},\"id\":\"1333\",\"type\":\"BasicTicker\"},{\"attributes\":{},\"id\":\"1387\",\"type\":\"BasicTickFormatter\"},{\"attributes\":{\"active_drag\":\"auto\",\"active_inspect\":\"auto\",\"active_multi\":null,\"active_scroll\":\"auto\",\"active_tap\":\"auto\",\"tools\":[{\"id\":\"1337\",\"type\":\"PanTool\"},{\"id\":\"1338\",\"type\":\"WheelZoomTool\"},{\"id\":\"1339\",\"type\":\"BoxZoomTool\"},{\"id\":\"1340\",\"type\":\"SaveTool\"},{\"id\":\"1341\",\"type\":\"ResetTool\"},{\"id\":\"1342\",\"type\":\"HelpTool\"}]},\"id\":\"1343\",\"type\":\"Toolbar\"},{\"attributes\":{},\"id\":\"1389\",\"type\":\"Selection\"},{\"attributes\":{},\"id\":\"1390\",\"type\":\"UnionRenderers\"},{\"attributes\":{\"fill_alpha\":{\"value\":0.5},\"fill_color\":{\"value\":\"orange\"},\"line_alpha\":{\"value\":0.5},\"line_color\":{\"value\":\"orange\"},\"x\":{\"field\":\"expert_score\"},\"y\":{\"field\":\"netizen_score\"}},\"id\":\"1352\",\"type\":\"Scatter\"},{\"attributes\":{},\"id\":\"1323\",\"type\":\"LinearScale\"},{\"attributes\":{\"formatter\":{\"id\":\"1385\",\"type\":\"BasicTickFormatter\"},\"ticker\":{\"id\":\"1328\",\"type\":\"BasicTicker\"}},\"id\":\"1327\",\"type\":\"LinearAxis\"},{\"attributes\":{\"data_source\":{\"id\":\"1350\",\"type\":\"ColumnDataSource\"},\"glyph\":{\"id\":\"1352\",\"type\":\"Scatter\"},\"hover_glyph\":null,\"muted_glyph\":null,\"nonselection_glyph\":{\"id\":\"1353\",\"type\":\"Scatter\"},\"selection_glyph\":null,\"view\":{\"id\":\"1355\",\"type\":\"CDSView\"}},\"id\":\"1354\",\"type\":\"GlyphRenderer\"},{\"attributes\":{\"source\":{\"id\":\"1350\",\"type\":\"ColumnDataSource\"}},\"id\":\"1355\",\"type\":\"CDSView\"},{\"attributes\":{\"dimension\":1,\"ticker\":{\"id\":\"1333\",\"type\":\"BasicTicker\"}},\"id\":\"1336\",\"type\":\"Grid\"},{\"attributes\":{\"text\":\"15\\uc138 \\uad00\\ub78c\\uac00\\uc758 \\ud3c9\\uc810(x\\ucd95\\uc774 \\uc804\\ubb38\\uac00 \\ud3c9\\uc810,y\\ucd95\\uc774 \\ub124\\ud2f0\\uc98c \\ud3c9\\uc810)\"},\"id\":\"1356\",\"type\":\"Title\"},{\"attributes\":{},\"id\":\"1342\",\"type\":\"HelpTool\"},{\"attributes\":{\"ticker\":{\"id\":\"1328\",\"type\":\"BasicTicker\"}},\"id\":\"1331\",\"type\":\"Grid\"},{\"attributes\":{},\"id\":\"1341\",\"type\":\"ResetTool\"},{\"attributes\":{\"callback\":null,\"data\":{\"expert_score\":{\"__ndarray__\":\"rkfhehSuFkAAAAAAAAAhQAAAAAAAABRAH4XrUbgeIkCPwvUoXI8eQFK4HoXrURlAAAAAAAAAFEAzMzMzMzMbQGZmZmZmZhZAMzMzMzMzG0AAAAAAAAAXQFK4HoXrUR1AAAAAAAAAFkBSuB6F61EbQAAAAAAAABhAuB6F61G4HkC4HoXrUbgYQAAAAAAAABxAAAAAAAAAHEBmZmZmZuYgQDMzMzMzMxVAZmZmZmZmGkA=\",\"dtype\":\"float64\",\"shape\":[22]},\"genre\":[\"\\uc2a4\\ub9b4\\ub7ec\",\"\\ucf54\\ubbf8\\ub514\",\"\\ubc94\\uc8c4\",\"\\ub4dc\\ub77c\\ub9c8\",\"\\uc2a4\\ub9b4\\ub7ec\",\"\\uba5c\\ub85c/\\ub85c\\ub9e8\\uc2a4\",\"\\uc561\\uc158\",\"\\ucf54\\ubbf8\\ub514\",\"\\ub4dc\\ub77c\\ub9c8\",\"\\uba5c\\ub85c/\\ub85c\\ub9e8\\uc2a4\",\"\\uc561\\uc158\",\"\\ub4dc\\ub77c\\ub9c8\",\"\\ubc94\\uc8c4\",\"\\ub4dc\\ub77c\\ub9c8\",\"\\uba5c\\ub85c/\\ub85c\\ub9e8\\uc2a4\",\"\\ub4dc\\ub77c\\ub9c8\",\"\\ud310\\ud0c0\\uc9c0\",\"\\uba5c\\ub85c/\\ub85c\\ub9e8\\uc2a4\",\"\\ubc94\\uc8c4\",\"\\uba5c\\ub85c/\\ub85c\\ub9e8\\uc2a4\",\"\\uc561\\uc158\",\"\\uc561\\uc158\"],\"grade\":[\"15\\uc138 \\uad00\\ub78c\\uac00\",\"15\\uc138 \\uad00\\ub78c\\uac00\",\"15\\uc138 \\uad00\\ub78c\\uac00\",\"15\\uc138 \\uad00\\ub78c\\uac00\",\"15\\uc138 \\uad00\\ub78c\\uac00\",\"15\\uc138 \\uad00\\ub78c\\uac00\",\"15\\uc138 \\uad00\\ub78c\\uac00\",\"15\\uc138 \\uad00\\ub78c\\uac00\",\"15\\uc138 \\uad00\\ub78c\\uac00\",\"15\\uc138 \\uad00\\ub78c\\uac00\",\"15\\uc138 \\uad00\\ub78c\\uac00\",\"15\\uc138 \\uad00\\ub78c\\uac00\",\"15\\uc138 \\uad00\\ub78c\\uac00\",\"15\\uc138 \\uad00\\ub78c\\uac00\",\"15\\uc138 \\uad00\\ub78c\\uac00\",\"15\\uc138 \\uad00\\ub78c\\uac00\",\"15\\uc138 \\uad00\\ub78c\\uac00\",\"15\\uc138 \\uad00\\ub78c\\uac00\",\"15\\uc138 \\uad00\\ub78c\\uac00\",\"15\\uc138 \\uad00\\ub78c\\uac00\",\"15\\uc138 \\uad00\\ub78c\\uac00\",\"15\\uc138 \\uad00\\ub78c\\uac00\"],\"index\":[6,8,9,10,13,14,24,27,28,32,46,47,48,49,50,51,62,63,66,70,72,74],\"level_0\":[6,8,9,10,13,14,24,27,28,32,46,47,48,49,50,51,62,63,66,70,72,74],\"movie_id\":[175324,188056,179159,161967,167613,182205,163831,167651,96379,92075,183803,174830,163608,142632,39440,101950,100644,36843,179302,38444,178526,100643],\"movie_name\":[\"\\ub098\\ub97c \\ucc3e\\uc544\\uc918\",\"\\uacb0\\ud63c \\uc774\\uc57c\\uae30\",\"\\uc2e0\\uc758 \\ud55c \\uc218: \\uadc0\\uc218\\ud3b8\",\"\\uae30\\uc0dd\\ucda9\",\"\\uc870\\ucee4\",\"\\uac00\\uc7a5 \\ubcf4\\ud1b5\\uc758 \\uc5f0\\uc560\",\"\\uc5d4\\uc824 \\ud574\\uc988 \\ud3f4\\ub978\",\"\\uadf9\\ud55c\\uc9c1\\uc5c5\",\"\\ube44\\uae34 \\uc5b4\\uac8c\\uc778\",\"\\uc5b4\\ubc14\\uc6c3 \\ud0c0\\uc784\",\"\\ud06c\\ub864\",\"\\uac00\\ubc84\\ub098\\uc6c0\",\"\\ub3c8\",\"\\ubbf8\\uc2a4 \\uc2ac\\ub85c\\uc6b4\",\"\\uc774\\ud504 \\uc628\\ub9ac\",\"\\uadf8\\ub140\",\"\\ud5dd\\uac70\\uac8c\\uc784:\\ubaa8\\ud0b9\\uc81c\\uc774\",\"\\ub7ec\\ube0c \\uc561\\uce04\\uc5bc\\ub9ac\",\"\\uce74\\uc13c\\ud0c0\",\"\\uc774\\ud130\\ub110 \\uc120\\uc0e4\\uc778\",\"\\ubd09\\uc624\\ub3d9 \\uc804\\ud22c\",\"\\ud5dd\\uac70\\uac8c\\uc784 : \\ub354 \\ud30c\\uc774\\ub110\"],\"netizen_score\":{\"__ndarray__\":\"XI/C9ShcHEC4HoXrUTgiQHsUrkfheh9AcT0K16PwIEDNzMzMzEwhQEjhehSuRx9A7FG4HoXrIEAK16NwPQohQI/C9ShcDyJAUrgehetRIkDNzMzMzMwbQK5H4XoULiNApHA9CtejHUCkcD0K16MiQKRwPQrXIyJAhetRuB4FIUApXI/C9SgeQGZmZmZm5iFACtejcD0KHUC4HoXrUTgiQKRwPQrXox9AexSuR+F6HkA=\",\"dtype\":\"float64\",\"shape\":[22]}},\"selected\":{\"id\":\"1389\",\"type\":\"Selection\"},\"selection_policy\":{\"id\":\"1390\",\"type\":\"UnionRenderers\"}},\"id\":\"1350\",\"type\":\"ColumnDataSource\"},{\"attributes\":{},\"id\":\"1340\",\"type\":\"SaveTool\"},{\"attributes\":{\"overlay\":{\"id\":\"1388\",\"type\":\"BoxAnnotation\"}},\"id\":\"1339\",\"type\":\"BoxZoomTool\"}],\"root_ids\":[\"1318\"]},\"title\":\"Bokeh Application\",\"version\":\"1.3.4\"}};\n",
       "  var render_items = [{\"docid\":\"92690b70-00d2-4646-98bb-90d5fd8fa70c\",\"roots\":{\"1318\":\"8036a171-108d-41ab-a173-4833427b4faa\"}}];\n",
       "  root.Bokeh.embed.embed_items_notebook(docs_json, render_items);\n",
       "\n",
       "  }\n",
       "  if (root.Bokeh !== undefined) {\n",
       "    embed_document(root);\n",
       "  } else {\n",
       "    var attempts = 0;\n",
       "    var timer = setInterval(function(root) {\n",
       "      if (root.Bokeh !== undefined) {\n",
       "        embed_document(root);\n",
       "        clearInterval(timer);\n",
       "      }\n",
       "      attempts++;\n",
       "      if (attempts > 100) {\n",
       "        console.log(\"Bokeh: ERROR: Unable to run BokehJS code because BokehJS library is missing\");\n",
       "        clearInterval(timer);\n",
       "      }\n",
       "    }, 10, root)\n",
       "  }\n",
       "})(window);"
      ],
      "application/vnd.bokehjs_exec.v0+json": ""
     },
     "metadata": {
      "application/vnd.bokehjs_exec.v0+json": {
       "id": "1318"
      }
     },
     "output_type": "display_data"
    }
   ],
   "source": [
    "p = figure(plot_width=500, plot_height=300)\n",
    "\n",
    "p.scatter(x=\"expert_score\", y=\"netizen_score\",alpha=0.5, source=see_15_frame,\n",
    "    color='orange')\n",
    "p.title = Title(text='15세 관람가의 평점(x축이 전문가 평점,y축이 네티즌 평점)')\n",
    "show(p)"
   ]
  },
  {
   "cell_type": "markdown",
   "metadata": {},
   "source": [
    "# 전체관람가"
   ]
  },
  {
   "cell_type": "code",
   "execution_count": 5,
   "metadata": {},
   "outputs": [
    {
     "data": {
      "text/html": [
       "\n",
       "\n",
       "\n",
       "\n",
       "\n",
       "\n",
       "  <div class=\"bk-root\" id=\"db92937b-822a-4721-a5b0-6a5059b00d0f\" data-root-id=\"1439\"></div>\n"
      ]
     },
     "metadata": {},
     "output_type": "display_data"
    },
    {
     "data": {
      "application/javascript": [
       "(function(root) {\n",
       "  function embed_document(root) {\n",
       "    \n",
       "  var docs_json = {\"46da675b-3d6e-4691-b6d3-9ac2ff2737ee\":{\"roots\":{\"references\":[{\"attributes\":{\"below\":[{\"id\":\"1448\",\"type\":\"LinearAxis\"}],\"center\":[{\"id\":\"1452\",\"type\":\"Grid\"},{\"id\":\"1457\",\"type\":\"Grid\"}],\"left\":[{\"id\":\"1453\",\"type\":\"LinearAxis\"}],\"plot_height\":300,\"plot_width\":500,\"renderers\":[{\"id\":\"1475\",\"type\":\"GlyphRenderer\"}],\"title\":{\"id\":\"1477\",\"type\":\"Title\"},\"toolbar\":{\"id\":\"1464\",\"type\":\"Toolbar\"},\"x_range\":{\"id\":\"1440\",\"type\":\"DataRange1d\"},\"x_scale\":{\"id\":\"1444\",\"type\":\"LinearScale\"},\"y_range\":{\"id\":\"1442\",\"type\":\"DataRange1d\"},\"y_scale\":{\"id\":\"1446\",\"type\":\"LinearScale\"}},\"id\":\"1439\",\"subtype\":\"Figure\",\"type\":\"Plot\"},{\"attributes\":{},\"id\":\"1463\",\"type\":\"HelpTool\"},{\"attributes\":{\"callback\":null,\"data\":{\"expert_score\":{\"__ndarray__\":\"AAAAAAAAG0AAAAAAAAAgQEjhehSuRx1AAAAAAAAAGEC4HoXrUbggQAAAAAAAABhAAAAAAAAAGECuR+F6FC4gQNejcD0K1x5AAAAAAAAAGEDhehSuR+EZQHE9CtejcBlAmpmZmZmZGUA=\",\"dtype\":\"float64\",\"shape\":[13]},\"genre\":[\"\\uc560\\ub2c8\\uba54\\uc774\\uc158\",\"\\uc560\\ub2c8\\uba54\\uc774\\uc158\",\"\\uc560\\ub2c8\\uba54\\uc774\\uc158\",\"\\ubaa8\\ud5d8\",\"\\ubaa8\\ud5d8\",\"\\ud310\\ud0c0\\uc9c0\",\"\\uc560\\ub2c8\\uba54\\uc774\\uc158\",\"\\uc560\\ub2c8\\uba54\\uc774\\uc158\",\"\\uc560\\ub2c8\\uba54\\uc774\\uc158\",\"\\uc560\\ub2c8\\uba54\\uc774\\uc158\",\"\\uc560\\ub2c8\\uba54\\uc774\\uc158\",\"\\ub4dc\\ub77c\\ub9c8\",\"\\uc560\\ub2c8\\uba54\\uc774\\uc158\"],\"grade\":[\"\\uc804\\uccb4 \\uad00\\ub78c\\uac00\",\"\\uc804\\uccb4 \\uad00\\ub78c\\uac00\",\"\\uc804\\uccb4 \\uad00\\ub78c\\uac00\",\"\\uc804\\uccb4 \\uad00\\ub78c\\uac00\",\"\\uc804\\uccb4 \\uad00\\ub78c\\uac00\",\"\\uc804\\uccb4 \\uad00\\ub78c\\uac00\",\"\\uc804\\uccb4 \\uad00\\ub78c\\uac00\",\"\\uc804\\uccb4 \\uad00\\ub78c\\uac00\",\"\\uc804\\uccb4 \\uad00\\ub78c\\uac00\",\"\\uc804\\uccb4 \\uad00\\ub78c\\uac00\",\"\\uc804\\uccb4 \\uad00\\ub78c\\uac00\",\"\\uc804\\uccb4 \\uad00\\ub78c\\uac00\",\"\\uc804\\uccb4 \\uad00\\ub78c\\uac00\"],\"index\":[1,11,12,16,17,31,35,42,43,55,58,59,75],\"level_0\":[1,11,12,16,17,31,35,42,43,55,58,59,75],\"movie_id\":[136873,151728,100931,163788,47528,57095,164907,101966,70457,164907,97692,154449,130849],\"movie_name\":[\"\\uaca8\\uc6b8\\uc655\\uad6d 2\",\"\\ucf54\\ucf54\",\"\\uaca8\\uc6b8\\uc655\\uad6d\",\"\\uc54c\\ub77c\\ub518\",\"\\ud574\\ub9ac \\ud3ec\\ud130\\uc640 \\uc8fd\\uc74c\\uc758 \\uc131\\ubb3c - 2\\ubd80\",\"\\ud574\\ub9ac \\ud3ec\\ud130\\uc640 \\ubd88\\uc0ac\\uc870 \\uae30\\uc0ac\\ub2e8\",\"\\ub808\\ub4dc\\uc288\\uc988\",\"\\ud1a0\\uc774 \\uc2a4\\ud1a0\\ub9ac 4\",\"\\ub4dc\\ub798\\uace4 \\uae38\\ub4e4\\uc774\\uae30\",\"\\ub808\\ub4dc\\uc288\\uc988\",\"\\ucff5\\ud478\\ud32c\\ub3543\",\"\\ub9ac\\ud2c0 \\ud3ec\\ub808\\uc2a4\\ud2b8\",\"\\ubaa8\\uc544\\ub098\"],\"netizen_score\":{\"__ndarray__\":\"XI/C9ShcIUCF61G4HoUiQD0K16NwPSJAw/UoXI/CIkAfhetRuJ4iQOxRuB6F6xtA9ihcj8J1IkAUrkfhehQiQClcj8L1qCJA9ihcj8J1IkDD9Shcj0IhQArXo3A9iiFAUrgehetRIkA=\",\"dtype\":\"float64\",\"shape\":[13]}},\"selected\":{\"id\":\"1518\",\"type\":\"Selection\"},\"selection_policy\":{\"id\":\"1519\",\"type\":\"UnionRenderers\"}},\"id\":\"1471\",\"type\":\"ColumnDataSource\"},{\"attributes\":{},\"id\":\"1444\",\"type\":\"LinearScale\"},{\"attributes\":{\"callback\":null},\"id\":\"1440\",\"type\":\"DataRange1d\"},{\"attributes\":{},\"id\":\"1446\",\"type\":\"LinearScale\"},{\"attributes\":{\"source\":{\"id\":\"1471\",\"type\":\"ColumnDataSource\"}},\"id\":\"1476\",\"type\":\"CDSView\"},{\"attributes\":{\"fill_alpha\":{\"value\":0.5},\"fill_color\":{\"value\":\"green\"},\"line_alpha\":{\"value\":0.5},\"line_color\":{\"value\":\"green\"},\"x\":{\"field\":\"expert_score\"},\"y\":{\"field\":\"netizen_score\"}},\"id\":\"1473\",\"type\":\"Scatter\"},{\"attributes\":{\"ticker\":{\"id\":\"1449\",\"type\":\"BasicTicker\"}},\"id\":\"1452\",\"type\":\"Grid\"},{\"attributes\":{},\"id\":\"1459\",\"type\":\"WheelZoomTool\"},{\"attributes\":{\"active_drag\":\"auto\",\"active_inspect\":\"auto\",\"active_multi\":null,\"active_scroll\":\"auto\",\"active_tap\":\"auto\",\"tools\":[{\"id\":\"1458\",\"type\":\"PanTool\"},{\"id\":\"1459\",\"type\":\"WheelZoomTool\"},{\"id\":\"1460\",\"type\":\"BoxZoomTool\"},{\"id\":\"1461\",\"type\":\"SaveTool\"},{\"id\":\"1462\",\"type\":\"ResetTool\"},{\"id\":\"1463\",\"type\":\"HelpTool\"}]},\"id\":\"1464\",\"type\":\"Toolbar\"},{\"attributes\":{},\"id\":\"1519\",\"type\":\"UnionRenderers\"},{\"attributes\":{},\"id\":\"1449\",\"type\":\"BasicTicker\"},{\"attributes\":{},\"id\":\"1518\",\"type\":\"Selection\"},{\"attributes\":{\"formatter\":{\"id\":\"1516\",\"type\":\"BasicTickFormatter\"},\"ticker\":{\"id\":\"1454\",\"type\":\"BasicTicker\"}},\"id\":\"1453\",\"type\":\"LinearAxis\"},{\"attributes\":{\"dimension\":1,\"ticker\":{\"id\":\"1454\",\"type\":\"BasicTicker\"}},\"id\":\"1457\",\"type\":\"Grid\"},{\"attributes\":{},\"id\":\"1454\",\"type\":\"BasicTicker\"},{\"attributes\":{\"data_source\":{\"id\":\"1471\",\"type\":\"ColumnDataSource\"},\"glyph\":{\"id\":\"1473\",\"type\":\"Scatter\"},\"hover_glyph\":null,\"muted_glyph\":null,\"nonselection_glyph\":{\"id\":\"1474\",\"type\":\"Scatter\"},\"selection_glyph\":null,\"view\":{\"id\":\"1476\",\"type\":\"CDSView\"}},\"id\":\"1475\",\"type\":\"GlyphRenderer\"},{\"attributes\":{\"bottom_units\":\"screen\",\"fill_alpha\":{\"value\":0.5},\"fill_color\":{\"value\":\"lightgrey\"},\"left_units\":\"screen\",\"level\":\"overlay\",\"line_alpha\":{\"value\":1.0},\"line_color\":{\"value\":\"black\"},\"line_dash\":[4,4],\"line_width\":{\"value\":2},\"render_mode\":\"css\",\"right_units\":\"screen\",\"top_units\":\"screen\"},\"id\":\"1517\",\"type\":\"BoxAnnotation\"},{\"attributes\":{\"text\":\"\\uc804\\uccb4 \\uad00\\ub78c\\uac00\\uc758 \\ud3c9\\uc810(x\\ucd95\\uc774 \\uc804\\ubb38\\uac00 \\ud3c9\\uc810,y\\ucd95\\uc774 \\ub124\\ud2f0\\uc98c \\ud3c9\\uc810)\"},\"id\":\"1477\",\"type\":\"Title\"},{\"attributes\":{\"callback\":null},\"id\":\"1442\",\"type\":\"DataRange1d\"},{\"attributes\":{\"fill_alpha\":{\"value\":0.1},\"fill_color\":{\"value\":\"#1f77b4\"},\"line_alpha\":{\"value\":0.1},\"line_color\":{\"value\":\"#1f77b4\"},\"x\":{\"field\":\"expert_score\"},\"y\":{\"field\":\"netizen_score\"}},\"id\":\"1474\",\"type\":\"Scatter\"},{\"attributes\":{},\"id\":\"1461\",\"type\":\"SaveTool\"},{\"attributes\":{},\"id\":\"1514\",\"type\":\"BasicTickFormatter\"},{\"attributes\":{},\"id\":\"1462\",\"type\":\"ResetTool\"},{\"attributes\":{},\"id\":\"1516\",\"type\":\"BasicTickFormatter\"},{\"attributes\":{\"overlay\":{\"id\":\"1517\",\"type\":\"BoxAnnotation\"}},\"id\":\"1460\",\"type\":\"BoxZoomTool\"},{\"attributes\":{},\"id\":\"1458\",\"type\":\"PanTool\"},{\"attributes\":{\"formatter\":{\"id\":\"1514\",\"type\":\"BasicTickFormatter\"},\"ticker\":{\"id\":\"1449\",\"type\":\"BasicTicker\"}},\"id\":\"1448\",\"type\":\"LinearAxis\"}],\"root_ids\":[\"1439\"]},\"title\":\"Bokeh Application\",\"version\":\"1.3.4\"}};\n",
       "  var render_items = [{\"docid\":\"46da675b-3d6e-4691-b6d3-9ac2ff2737ee\",\"roots\":{\"1439\":\"db92937b-822a-4721-a5b0-6a5059b00d0f\"}}];\n",
       "  root.Bokeh.embed.embed_items_notebook(docs_json, render_items);\n",
       "\n",
       "  }\n",
       "  if (root.Bokeh !== undefined) {\n",
       "    embed_document(root);\n",
       "  } else {\n",
       "    var attempts = 0;\n",
       "    var timer = setInterval(function(root) {\n",
       "      if (root.Bokeh !== undefined) {\n",
       "        embed_document(root);\n",
       "        clearInterval(timer);\n",
       "      }\n",
       "      attempts++;\n",
       "      if (attempts > 100) {\n",
       "        console.log(\"Bokeh: ERROR: Unable to run BokehJS code because BokehJS library is missing\");\n",
       "        clearInterval(timer);\n",
       "      }\n",
       "    }, 10, root)\n",
       "  }\n",
       "})(window);"
      ],
      "application/vnd.bokehjs_exec.v0+json": ""
     },
     "metadata": {
      "application/vnd.bokehjs_exec.v0+json": {
       "id": "1439"
      }
     },
     "output_type": "display_data"
    }
   ],
   "source": [
    "p = figure(plot_width=500, plot_height=300)\n",
    "\n",
    "p.scatter(x=\"expert_score\", y=\"netizen_score\",alpha=0.5, source=see_all_frame,\n",
    "    color='green')\n",
    "p.title = Title(text='전체 관람가의 평점(x축이 전문가 평점,y축이 네티즌 평점)')\n",
    "show(p)"
   ]
  },
  {
   "cell_type": "markdown",
   "metadata": {},
   "source": [
    "# 청소년 관람불가 "
   ]
  },
  {
   "cell_type": "code",
   "execution_count": 6,
   "metadata": {},
   "outputs": [
    {
     "data": {
      "text/html": [
       "\n",
       "\n",
       "\n",
       "\n",
       "\n",
       "\n",
       "  <div class=\"bk-root\" id=\"c1ef0018-7897-4777-a47a-d914e02bb412\" data-root-id=\"1568\"></div>\n"
      ]
     },
     "metadata": {},
     "output_type": "display_data"
    },
    {
     "data": {
      "application/javascript": [
       "(function(root) {\n",
       "  function embed_document(root) {\n",
       "    \n",
       "  var docs_json = {\"723d7354-e4e0-4328-bb2f-c8c7872926eb\":{\"roots\":{\"references\":[{\"attributes\":{\"below\":[{\"id\":\"1577\",\"type\":\"LinearAxis\"}],\"center\":[{\"id\":\"1581\",\"type\":\"Grid\"},{\"id\":\"1586\",\"type\":\"Grid\"}],\"left\":[{\"id\":\"1582\",\"type\":\"LinearAxis\"}],\"plot_height\":300,\"plot_width\":500,\"renderers\":[{\"id\":\"1604\",\"type\":\"GlyphRenderer\"}],\"title\":{\"id\":\"1606\",\"type\":\"Title\"},\"toolbar\":{\"id\":\"1593\",\"type\":\"Toolbar\"},\"x_range\":{\"id\":\"1569\",\"type\":\"DataRange1d\"},\"x_scale\":{\"id\":\"1573\",\"type\":\"LinearScale\"},\"y_range\":{\"id\":\"1571\",\"type\":\"DataRange1d\"},\"y_scale\":{\"id\":\"1575\",\"type\":\"LinearScale\"}},\"id\":\"1568\",\"subtype\":\"Figure\",\"type\":\"Plot\"},{\"attributes\":{\"fill_alpha\":{\"value\":0.5},\"fill_color\":{\"value\":\"red\"},\"line_alpha\":{\"value\":0.5},\"line_color\":{\"value\":\"red\"},\"x\":{\"field\":\"expert_score\"},\"y\":{\"field\":\"netizen_score\"}},\"id\":\"1602\",\"type\":\"Scatter\"},{\"attributes\":{\"formatter\":{\"id\":\"1653\",\"type\":\"BasicTickFormatter\"},\"ticker\":{\"id\":\"1583\",\"type\":\"BasicTicker\"}},\"id\":\"1582\",\"type\":\"LinearAxis\"},{\"attributes\":{},\"id\":\"1592\",\"type\":\"HelpTool\"},{\"attributes\":{\"ticker\":{\"id\":\"1578\",\"type\":\"BasicTicker\"}},\"id\":\"1581\",\"type\":\"Grid\"},{\"attributes\":{\"dimension\":1,\"ticker\":{\"id\":\"1583\",\"type\":\"BasicTicker\"}},\"id\":\"1586\",\"type\":\"Grid\"},{\"attributes\":{\"active_drag\":\"auto\",\"active_inspect\":\"auto\",\"active_multi\":null,\"active_scroll\":\"auto\",\"active_tap\":\"auto\",\"tools\":[{\"id\":\"1587\",\"type\":\"PanTool\"},{\"id\":\"1588\",\"type\":\"WheelZoomTool\"},{\"id\":\"1589\",\"type\":\"BoxZoomTool\"},{\"id\":\"1590\",\"type\":\"SaveTool\"},{\"id\":\"1591\",\"type\":\"ResetTool\"},{\"id\":\"1592\",\"type\":\"HelpTool\"}]},\"id\":\"1593\",\"type\":\"Toolbar\"},{\"attributes\":{},\"id\":\"1583\",\"type\":\"BasicTicker\"},{\"attributes\":{\"callback\":null,\"data\":{\"expert_score\":{\"__ndarray__\":\"cT0K16NwHUBcj8L1KFwFQAAAAAAAAAJAAAAAAAAAAEBSuB6F61EZQD0K16NwPRdAuB6F61G4FUBmZmZmZmYgQEjhehSuRxZASOF6FK5HHkDsUbgeheshQAAAAAAAAABAhetRuB6FG0DXo3A9CtcWQD0K16NwPRRAuB6F61E4IkA=\",\"dtype\":\"float64\",\"shape\":[16]},\"genre\":[\"\\ucf54\\ubbf8\\ub514\",\"\\ub4dc\\ub77c\\ub9c8\",\"\\ub4dc\\ub77c\\ub9c8\",\"\\ucf54\\ubbf8\\ub514\",\"\\ubc94\\uc8c4\",\"\\ubc94\\uc8c4\",\"\\ubc94\\uc8c4\",\"\\ub4dc\\ub77c\\ub9c8\",\"\\ub4dc\\ub77c\\ub9c8\",\"\\uba5c\\ub85c/\\ub85c\\ub9e8\\uc2a4\",\"\\ub4dc\\ub77c\\ub9c8\",\"\\uba5c\\ub85c/\\ub85c\\ub9e8\\uc2a4\",\"\\uc561\\uc158\",\"\\ubc94\\uc8c4\",\"\\uc2a4\\ub9b4\\ub7ec\",\"\\ubc94\\uc8c4\"],\"grade\":[\"\\uccad\\uc18c\\ub144 \\uad00\\ub78c\\ubd88\\uac00\",\"\\uccad\\uc18c\\ub144 \\uad00\\ub78c\\ubd88\\uac00\",\"\\uccad\\uc18c\\ub144 \\uad00\\ub78c\\ubd88\\uac00\",\"\\uccad\\uc18c\\ub144 \\uad00\\ub78c\\ubd88\\uac00\",\"\\uccad\\uc18c\\ub144 \\uad00\\ub78c\\ubd88\\uac00\",\"\\uccad\\uc18c\\ub144 \\uad00\\ub78c\\ubd88\\uac00\",\"\\uccad\\uc18c\\ub144 \\uad00\\ub78c\\ubd88\\uac00\",\"\\uccad\\uc18c\\ub144 \\uad00\\ub78c\\ubd88\\uac00\",\"\\uccad\\uc18c\\ub144 \\uad00\\ub78c\\ubd88\\uac00\",\"\\uccad\\uc18c\\ub144 \\uad00\\ub78c\\ubd88\\uac00\",\"\\uccad\\uc18c\\ub144 \\uad00\\ub78c\\ubd88\\uac00\",\"\\uccad\\uc18c\\ub144 \\uad00\\ub78c\\ubd88\\uac00\",\"\\uccad\\uc18c\\ub144 \\uad00\\ub78c\\ubd88\\uac00\",\"\\uccad\\uc18c\\ub144 \\uad00\\ub78c\\ubd88\\uac00\",\"\\uccad\\uc18c\\ub144 \\uad00\\ub78c\\ubd88\\uac00\",\"\\uccad\\uc18c\\ub144 \\uad00\\ub78c\\ubd88\\uac00\"],\"index\":[19,21,22,23,36,39,41,52,56,57,61,65,68,69,77,79],\"level_0\":[19,21,22,23,36,39,41,52,56,57,61,65,68,69,77,79],\"movie_id\":[95333,154598,144081,187390,188473,107373,96951,98432,113353,61101,101962,122009,181698,177967,124031,154298],\"movie_name\":[\"\\ub354 \\uc6b8\\ud504 \\uc624\\ube0c \\uc6d4 \\uc2a4\\ud2b8\\ub9ac\\ud2b8\",\"50\\uac00\\uc9c0 \\uadf8\\ub9bc\\uc790: \\ud574\\ubc29\",\"50\\uac00\\uc9c0 \\uadf8\\ub9bc\\uc790: \\uc2ec\\uc5f0\",\"\\uc544\\uc9c1 \\uc0ac\\ub791\\ud558\\uace0 \\uc788\\uc2b5\\ub2c8\\uae4c?\",\"\\ud5c8\\uc2ac\\ub7ec\",\"\\uc2e0\\uc758 \\ud55c \\uc218\",\"\\ud0c0\\uc9dc: \\uc6d0 \\uc544\\uc774\\ub4dc \\uc7ad\",\"\\uac00\\uc7a5 \\ub530\\ub73b\\ud55c \\uc0c9, \\ube14\\ub8e8\",\"\\uc778\\uac04\\uc911\\ub3c5\",\"\\uc0c9, \\uacc4\",\"\\uce90\\ub864\",\"\\uc5b4\\uc6b0\\ub3d9: \\uc8fc\\uc778 \\uc5c6\\ub294 \\uaf43\",\"\\uc874 \\uc705 3: \\ud30c\\ub77c\\ubca8\\ub8f8\",\"\\uc545\\uc778\\uc804\",\"\\ub110 \\uae30\\ub2e4\\ub9ac\\uba70\",\"\\uc544\\uc774\\ub9ac\\uc2dc\\ub9e8\"],\"netizen_score\":{\"__ndarray__\":\"pHA9CtcjIEDD9Shcj8IfQI/C9Shcjx1AXI/C9ShcHEDD9Shcj8IbQI/C9ShcDyBAZmZmZmZmFUAUrkfhepQhQM3MzMzMzBpAFK5H4XoUIUCkcD0K1yMhQBSuR+F6FBNAFK5H4XoUIECPwvUoXI8fQEjhehSuRx5AUrgehevRIUA=\",\"dtype\":\"float64\",\"shape\":[16]}},\"selected\":{\"id\":\"1655\",\"type\":\"Selection\"},\"selection_policy\":{\"id\":\"1656\",\"type\":\"UnionRenderers\"}},\"id\":\"1600\",\"type\":\"ColumnDataSource\"},{\"attributes\":{},\"id\":\"1656\",\"type\":\"UnionRenderers\"},{\"attributes\":{\"fill_alpha\":{\"value\":0.1},\"fill_color\":{\"value\":\"#1f77b4\"},\"line_alpha\":{\"value\":0.1},\"line_color\":{\"value\":\"#1f77b4\"},\"x\":{\"field\":\"expert_score\"},\"y\":{\"field\":\"netizen_score\"}},\"id\":\"1603\",\"type\":\"Scatter\"},{\"attributes\":{\"data_source\":{\"id\":\"1600\",\"type\":\"ColumnDataSource\"},\"glyph\":{\"id\":\"1602\",\"type\":\"Scatter\"},\"hover_glyph\":null,\"muted_glyph\":null,\"nonselection_glyph\":{\"id\":\"1603\",\"type\":\"Scatter\"},\"selection_glyph\":null,\"view\":{\"id\":\"1605\",\"type\":\"CDSView\"}},\"id\":\"1604\",\"type\":\"GlyphRenderer\"},{\"attributes\":{},\"id\":\"1651\",\"type\":\"BasicTickFormatter\"},{\"attributes\":{\"source\":{\"id\":\"1600\",\"type\":\"ColumnDataSource\"}},\"id\":\"1605\",\"type\":\"CDSView\"},{\"attributes\":{},\"id\":\"1653\",\"type\":\"BasicTickFormatter\"},{\"attributes\":{\"formatter\":{\"id\":\"1651\",\"type\":\"BasicTickFormatter\"},\"ticker\":{\"id\":\"1578\",\"type\":\"BasicTicker\"}},\"id\":\"1577\",\"type\":\"LinearAxis\"},{\"attributes\":{},\"id\":\"1587\",\"type\":\"PanTool\"},{\"attributes\":{},\"id\":\"1655\",\"type\":\"Selection\"},{\"attributes\":{\"callback\":null},\"id\":\"1569\",\"type\":\"DataRange1d\"},{\"attributes\":{},\"id\":\"1575\",\"type\":\"LinearScale\"},{\"attributes\":{},\"id\":\"1573\",\"type\":\"LinearScale\"},{\"attributes\":{},\"id\":\"1588\",\"type\":\"WheelZoomTool\"},{\"attributes\":{},\"id\":\"1578\",\"type\":\"BasicTicker\"},{\"attributes\":{\"text\":\"\\uccad\\uc18c\\ub144 \\uad00\\ub78c\\ubd88\\uac00\\uc758 \\ud3c9\\uc810(x\\ucd95\\uc774 \\uc804\\ubb38\\uac00 \\ud3c9\\uc810,y\\ucd95\\uc774 \\ub124\\ud2f0\\uc98c \\ud3c9\\uc810)\"},\"id\":\"1606\",\"type\":\"Title\"},{\"attributes\":{\"overlay\":{\"id\":\"1654\",\"type\":\"BoxAnnotation\"}},\"id\":\"1589\",\"type\":\"BoxZoomTool\"},{\"attributes\":{},\"id\":\"1591\",\"type\":\"ResetTool\"},{\"attributes\":{\"bottom_units\":\"screen\",\"fill_alpha\":{\"value\":0.5},\"fill_color\":{\"value\":\"lightgrey\"},\"left_units\":\"screen\",\"level\":\"overlay\",\"line_alpha\":{\"value\":1.0},\"line_color\":{\"value\":\"black\"},\"line_dash\":[4,4],\"line_width\":{\"value\":2},\"render_mode\":\"css\",\"right_units\":\"screen\",\"top_units\":\"screen\"},\"id\":\"1654\",\"type\":\"BoxAnnotation\"},{\"attributes\":{},\"id\":\"1590\",\"type\":\"SaveTool\"},{\"attributes\":{\"callback\":null},\"id\":\"1571\",\"type\":\"DataRange1d\"}],\"root_ids\":[\"1568\"]},\"title\":\"Bokeh Application\",\"version\":\"1.3.4\"}};\n",
       "  var render_items = [{\"docid\":\"723d7354-e4e0-4328-bb2f-c8c7872926eb\",\"roots\":{\"1568\":\"c1ef0018-7897-4777-a47a-d914e02bb412\"}}];\n",
       "  root.Bokeh.embed.embed_items_notebook(docs_json, render_items);\n",
       "\n",
       "  }\n",
       "  if (root.Bokeh !== undefined) {\n",
       "    embed_document(root);\n",
       "  } else {\n",
       "    var attempts = 0;\n",
       "    var timer = setInterval(function(root) {\n",
       "      if (root.Bokeh !== undefined) {\n",
       "        embed_document(root);\n",
       "        clearInterval(timer);\n",
       "      }\n",
       "      attempts++;\n",
       "      if (attempts > 100) {\n",
       "        console.log(\"Bokeh: ERROR: Unable to run BokehJS code because BokehJS library is missing\");\n",
       "        clearInterval(timer);\n",
       "      }\n",
       "    }, 10, root)\n",
       "  }\n",
       "})(window);"
      ],
      "application/vnd.bokehjs_exec.v0+json": ""
     },
     "metadata": {
      "application/vnd.bokehjs_exec.v0+json": {
       "id": "1568"
      }
     },
     "output_type": "display_data"
    }
   ],
   "source": [
    "p = figure(plot_width=500, plot_height=300)\n",
    "\n",
    "p.scatter(x=\"expert_score\", y=\"netizen_score\",alpha=0.5, source=see_adult_frame,\n",
    "    color='red')\n",
    "p.title = Title(text='청소년 관람불가의 평점(x축이 전문가 평점,y축이 네티즌 평점)')\n",
    "show(p)"
   ]
  },
  {
   "cell_type": "markdown",
   "metadata": {},
   "source": [
    "# 관람등급로 예측해보는 네티즌 평점"
   ]
  },
  {
   "cell_type": "code",
   "execution_count": 7,
   "metadata": {},
   "outputs": [
    {
     "data": {
      "text/html": [
       "\n",
       "\n",
       "\n",
       "\n",
       "\n",
       "\n",
       "  <div class=\"bk-root\" id=\"18c37311-021e-4bf5-a977-150797a759b5\" data-root-id=\"1706\"></div>\n"
      ]
     },
     "metadata": {},
     "output_type": "display_data"
    },
    {
     "data": {
      "application/javascript": [
       "(function(root) {\n",
       "  function embed_document(root) {\n",
       "    \n",
       "  var docs_json = {\"e11714cc-2758-47ea-83cd-bf992622189b\":{\"roots\":{\"references\":[{\"attributes\":{\"below\":[{\"id\":\"1715\",\"type\":\"LinearAxis\"}],\"center\":[{\"id\":\"1719\",\"type\":\"Grid\"},{\"id\":\"1724\",\"type\":\"Grid\"}],\"left\":[{\"id\":\"1720\",\"type\":\"LinearAxis\"}],\"plot_height\":300,\"plot_width\":500,\"renderers\":[{\"id\":\"1731\",\"type\":\"GlyphRenderer\"}],\"title\":{\"id\":\"1782\",\"type\":\"Title\"},\"toolbar\":{\"id\":\"1725\",\"type\":\"Toolbar\"},\"x_range\":{\"id\":\"1707\",\"type\":\"DataRange1d\"},\"x_scale\":{\"id\":\"1711\",\"type\":\"LinearScale\"},\"y_range\":{\"id\":\"1709\",\"type\":\"DataRange1d\"},\"y_scale\":{\"id\":\"1713\",\"type\":\"LinearScale\"}},\"id\":\"1706\",\"subtype\":\"Figure\",\"type\":\"Plot\"},{\"attributes\":{},\"id\":\"1711\",\"type\":\"LinearScale\"},{\"attributes\":{\"active_drag\":\"auto\",\"active_inspect\":\"auto\",\"active_multi\":null,\"active_scroll\":\"auto\",\"active_tap\":\"auto\",\"tools\":[{\"id\":\"1705\",\"type\":\"HoverTool\"}]},\"id\":\"1725\",\"type\":\"Toolbar\"},{\"attributes\":{},\"id\":\"1713\",\"type\":\"LinearScale\"},{\"attributes\":{\"callback\":null,\"data\":{\"expert_score\":{\"__ndarray__\":\"hetRuB6FHkAAAAAAAAAbQAAAAAAAABhAAAAAAAAAHEDXo3A9CtcaQAAAAAAAABxArkfhehSuFkBxPQrXo3AbQAAAAAAAACFAAAAAAAAAFEAfhetRuB4iQAAAAAAAACBASOF6FK5HHUCPwvUoXI8eQFK4HoXrURlArkfhehSuIEAAAAAAAAAYQLgehetRuCBA7FG4HoXrHEBxPQrXo3AdQHsUrkfheh5AXI/C9ShcBUAAAAAAAAACQAAAAAAAAABAAAAAAAAAFEAzMzMzMzMbQHE9CtejcBdAMzMzMzMzG0BmZmZmZmYWQDMzMzMzMx5AAAAAAAAAFEAAAAAAAAAYQDMzMzMzMxtAKVyPwvUoG0AAAAAAAAAYQAAAAAAAABhAUrgehetRGUAAAAAAAAAUQIXrUbgehR1APQrXo3A9F0AAAAAAAAAgQLgehetRuBVArkfhehQuIEDXo3A9CtceQB+F61G4HiBAZmZmZmZmGkAAAAAAAAAXQFK4HoXrUR1AAAAAAAAAFkBSuB6F61EbQAAAAAAAABhAuB6F61G4HkBmZmZmZmYgQAAAAAAAABNA16NwPQrXGkAAAAAAAAAYQEjhehSuRxZASOF6FK5HHkDhehSuR+EZQHE9CtejcBlAAAAAAAAAGEDsUbgeheshQLgehetRuBhAAAAAAAAAHEAAAAAAAAAZQAAAAAAAAABAAAAAAAAAHECPwvUoXI8YQIXrUbgehRtA16NwPQrXFkBmZmZmZuYgQAAAAAAAABRAMzMzMzMzFUAAAAAAAAAbQGZmZmZmZhpAmpmZmZmZGUAAAAAAAAAWQD0K16NwPRRAAAAAAAAAHkC4HoXrUTgiQA==\",\"dtype\":\"float64\",\"shape\":[80]},\"genre\":[\"\\uc561\\uc158\",\"\\uc560\\ub2c8\\uba54\\uc774\\uc158\",\"\\uc561\\uc158\",\"\\ubbf8\\uc2a4\\ud130\\ub9ac\",\"\\uba5c\\ub85c/\\ub85c\\ub9e8\\uc2a4\",\"\\ub4dc\\ub77c\\ub9c8\",\"\\uc2a4\\ub9b4\\ub7ec\",\"\\ub4dc\\ub77c\\ub9c8\",\"\\ucf54\\ubbf8\\ub514\",\"\\ubc94\\uc8c4\",\"\\ub4dc\\ub77c\\ub9c8\",\"\\uc560\\ub2c8\\uba54\\uc774\\uc158\",\"\\uc560\\ub2c8\\uba54\\uc774\\uc158\",\"\\uc2a4\\ub9b4\\ub7ec\",\"\\uba5c\\ub85c/\\ub85c\\ub9e8\\uc2a4\",\"\\ub4dc\\ub77c\\ub9c8\",\"\\ubaa8\\ud5d8\",\"\\ubaa8\\ud5d8\",\"\\uc561\\uc158\",\"\\ucf54\\ubbf8\\ub514\",\"\\uc561\\uc158\",\"\\ub4dc\\ub77c\\ub9c8\",\"\\ub4dc\\ub77c\\ub9c8\",\"\\ucf54\\ubbf8\\ub514\",\"\\uc561\\uc158\",\"\\uc560\\ub2c8\\uba54\\uc774\\uc158\",\"\\ub4dc\\ub77c\\ub9c8\",\"\\ucf54\\ubbf8\\ub514\",\"\\ub4dc\\ub77c\\ub9c8\",\"\\uc560\\ub2c8\\uba54\\uc774\\uc158\",\"\\uba5c\\ub85c/\\ub85c\\ub9e8\\uc2a4\",\"\\ud310\\ud0c0\\uc9c0\",\"\\uba5c\\ub85c/\\ub85c\\ub9e8\\uc2a4\",\"\\ub4dc\\ub77c\\ub9c8\",\"\\ub4dc\\ub77c\\ub9c8\",\"\\uc560\\ub2c8\\uba54\\uc774\\uc158\",\"\\ubc94\\uc8c4\",\"\\ub4dc\\ub77c\\ub9c8\",\"SF\",\"\\ubc94\\uc8c4\",\"\\uba5c\\ub85c/\\ub85c\\ub9e8\\uc2a4\",\"\\ubc94\\uc8c4\",\"\\uc560\\ub2c8\\uba54\\uc774\\uc158\",\"\\uc560\\ub2c8\\uba54\\uc774\\uc158\",\"\\ub4dc\\ub77c\\ub9c8\",\"\\ub4dc\\ub77c\\ub9c8\",\"\\uc561\\uc158\",\"\\ub4dc\\ub77c\\ub9c8\",\"\\ubc94\\uc8c4\",\"\\ub4dc\\ub77c\\ub9c8\",\"\\uba5c\\ub85c/\\ub85c\\ub9e8\\uc2a4\",\"\\ub4dc\\ub77c\\ub9c8\",\"\\ub4dc\\ub77c\\ub9c8\",\"\\uba5c\\ub85c/\\ub85c\\ub9e8\\uc2a4\",\"\\ucf54\\ubbf8\\ub514\",\"\\uc560\\ub2c8\\uba54\\uc774\\uc158\",\"\\ub4dc\\ub77c\\ub9c8\",\"\\uba5c\\ub85c/\\ub85c\\ub9e8\\uc2a4\",\"\\uc560\\ub2c8\\uba54\\uc774\\uc158\",\"\\ub4dc\\ub77c\\ub9c8\",\"\\uba5c\\ub85c/\\ub85c\\ub9e8\\uc2a4\",\"\\ub4dc\\ub77c\\ub9c8\",\"\\ud310\\ud0c0\\uc9c0\",\"\\uba5c\\ub85c/\\ub85c\\ub9e8\\uc2a4\",\"\\ucf54\\ubbf8\\ub514\",\"\\uba5c\\ub85c/\\ub85c\\ub9e8\\uc2a4\",\"\\ubc94\\uc8c4\",\"\\ub4dc\\ub77c\\ub9c8\",\"\\uc561\\uc158\",\"\\ubc94\\uc8c4\",\"\\uba5c\\ub85c/\\ub85c\\ub9e8\\uc2a4\",\"\\uc804\\uc7c1\",\"\\uc561\\uc158\",\"\\ub4dc\\ub77c\\ub9c8\",\"\\uc561\\uc158\",\"\\uc560\\ub2c8\\uba54\\uc774\\uc158\",\"\\ub4dc\\ub77c\\ub9c8\",\"\\uc2a4\\ub9b4\\ub7ec\",\"\\ub4dc\\ub77c\\ub9c8\",\"\\ubc94\\uc8c4\"],\"grade\":[\"12\\uc138 \\uad00\\ub78c\\uac00\",\"\\uc804\\uccb4 \\uad00\\ub78c\\uac00\",\"12\\uc138 \\uad00\\ub78c\\uac00\",\"12\\uc138 \\uad00\\ub78c\\uac00\",\"12\\uc138 \\uad00\\ub78c\\uac00\",\"12\\uc138 \\uad00\\ub78c\\uac00\",\"15\\uc138 \\uad00\\ub78c\\uac00\",\"12\\uc138 \\uad00\\ub78c\\uac00\",\"15\\uc138 \\uad00\\ub78c\\uac00\",\"15\\uc138 \\uad00\\ub78c\\uac00\",\"15\\uc138 \\uad00\\ub78c\\uac00\",\"\\uc804\\uccb4 \\uad00\\ub78c\\uac00\",\"\\uc804\\uccb4 \\uad00\\ub78c\\uac00\",\"15\\uc138 \\uad00\\ub78c\\uac00\",\"15\\uc138 \\uad00\\ub78c\\uac00\",\"12\\uc138 \\uad00\\ub78c\\uac00\",\"\\uc804\\uccb4 \\uad00\\ub78c\\uac00\",\"\\uc804\\uccb4 \\uad00\\ub78c\\uac00\",\"12\\uc138 \\uad00\\ub78c\\uac00\",\"\\uccad\\uc18c\\ub144 \\uad00\\ub78c\\ubd88\\uac00\",\"12\\uc138 \\uad00\\ub78c\\uac00\",\"\\uccad\\uc18c\\ub144 \\uad00\\ub78c\\ubd88\\uac00\",\"\\uccad\\uc18c\\ub144 \\uad00\\ub78c\\ubd88\\uac00\",\"\\uccad\\uc18c\\ub144 \\uad00\\ub78c\\ubd88\\uac00\",\"15\\uc138 \\uad00\\ub78c\\uac00\",\"12\\uc138 \\uad00\\ub78c\\uac00\",\"12\\uc138 \\uad00\\ub78c\\uac00\",\"15\\uc138 \\uad00\\ub78c\\uac00\",\"15\\uc138 \\uad00\\ub78c\\uac00\",\"12\\uc138 \\uad00\\ub78c\\uac00\",\"12\\uc138 \\uad00\\ub78c\\uac00\",\"\\uc804\\uccb4 \\uad00\\ub78c\\uac00\",\"15\\uc138 \\uad00\\ub78c\\uac00\",\"12\\uc138 \\uad00\\ub78c\\uac00\",\"12\\uc138 \\uad00\\ub78c\\uac00\",\"\\uc804\\uccb4 \\uad00\\ub78c\\uac00\",\"\\uccad\\uc18c\\ub144 \\uad00\\ub78c\\ubd88\\uac00\",\"12\\uc138 \\uad00\\ub78c\\uac00\",\"12\\uc138 \\uad00\\ub78c\\uac00\",\"\\uccad\\uc18c\\ub144 \\uad00\\ub78c\\ubd88\\uac00\",\"12\\uc138 \\uad00\\ub78c\\uac00\",\"\\uccad\\uc18c\\ub144 \\uad00\\ub78c\\ubd88\\uac00\",\"\\uc804\\uccb4 \\uad00\\ub78c\\uac00\",\"\\uc804\\uccb4 \\uad00\\ub78c\\uac00\",\"12\\uc138 \\uad00\\ub78c\\uac00\",\"12\\uc138 \\uad00\\ub78c\\uac00\",\"15\\uc138 \\uad00\\ub78c\\uac00\",\"15\\uc138 \\uad00\\ub78c\\uac00\",\"15\\uc138 \\uad00\\ub78c\\uac00\",\"15\\uc138 \\uad00\\ub78c\\uac00\",\"15\\uc138 \\uad00\\ub78c\\uac00\",\"15\\uc138 \\uad00\\ub78c\\uac00\",\"\\uccad\\uc18c\\ub144 \\uad00\\ub78c\\ubd88\\uac00\",\"12\\uc138 \\uad00\\ub78c\\uac00\",\"12\\uc138 \\uad00\\ub78c\\uac00\",\"\\uc804\\uccb4 \\uad00\\ub78c\\uac00\",\"\\uccad\\uc18c\\ub144 \\uad00\\ub78c\\ubd88\\uac00\",\"\\uccad\\uc18c\\ub144 \\uad00\\ub78c\\ubd88\\uac00\",\"\\uc804\\uccb4 \\uad00\\ub78c\\uac00\",\"\\uc804\\uccb4 \\uad00\\ub78c\\uac00\",\"12\\uc138 \\uad00\\ub78c\\uac00\",\"\\uccad\\uc18c\\ub144 \\uad00\\ub78c\\ubd88\\uac00\",\"15\\uc138 \\uad00\\ub78c\\uac00\",\"15\\uc138 \\uad00\\ub78c\\uac00\",\"12\\uc138 \\uad00\\ub78c\\uac00\",\"\\uccad\\uc18c\\ub144 \\uad00\\ub78c\\ubd88\\uac00\",\"15\\uc138 \\uad00\\ub78c\\uac00\",\"12\\uc138 \\uad00\\ub78c\\uac00\",\"\\uccad\\uc18c\\ub144 \\uad00\\ub78c\\ubd88\\uac00\",\"\\uccad\\uc18c\\ub144 \\uad00\\ub78c\\ubd88\\uac00\",\"15\\uc138 \\uad00\\ub78c\\uac00\",\"12\\uc138 \\uad00\\ub78c\\uac00\",\"15\\uc138 \\uad00\\ub78c\\uac00\",\"12\\uc138 \\uad00\\ub78c\\uac00\",\"15\\uc138 \\uad00\\ub78c\\uac00\",\"\\uc804\\uccb4 \\uad00\\ub78c\\uac00\",\"12\\uc138 \\uad00\\ub78c\\uac00\",\"\\uccad\\uc18c\\ub144 \\uad00\\ub78c\\ubd88\\uac00\",\"12\\uc138 \\uad00\\ub78c\\uac00\",\"\\uccad\\uc18c\\ub144 \\uad00\\ub78c\\ubd88\\uac00\"],\"index\":[0,1,2,3,4,5,6,7,8,9,10,11,12,13,14,15,16,17,18,19,20,21,22,23,24,25,26,27,28,29,30,31,32,33,34,35,36,37,38,39,40,41,42,43,44,45,46,47,48,49,50,51,52,53,54,55,56,57,58,59,60,61,62,63,64,65,66,67,68,69,70,71,72,73,74,75,76,77,78,79],\"level_0\":[0,1,2,3,4,5,6,7,8,9,10,11,12,13,14,15,16,17,18,19,20,21,22,23,24,25,26,27,28,29,30,31,32,33,34,35,36,37,38,39,40,41,42,43,44,45,46,47,48,49,50,51,52,53,54,55,56,57,58,59,60,61,62,63,64,65,66,67,68,69,70,71,72,73,74,75,76,77,78,79],\"movie_id\":[181710,136873,187349,189000,182387,189111,175324,188060,188056,179159,161967,151728,100931,167613,182205,134963,163788,47528,174903,95333,136900,154598,144081,187390,163831,95762,167699,167651,96379,150198,137915,57095,92075,179482,177374,164907,188473,118954,159887,107373,24830,96951,101966,70457,103657,106360,183803,174830,163608,142632,39440,101950,98432,180381,73372,164907,113353,61101,97692,154449,157178,101962,100644,36843,118917,122009,179302,156464,181698,177967,38444,159806,178526,147092,100643,130849,187787,124031,134899,154298],\"movie_name\":[\"\\ud3ec\\ub4dc V \\ud398\\ub77c\\ub9ac\",\"\\uaca8\\uc6b8\\uc655\\uad6d 2\",\"\\uc96c\\ub9cc\\uc9c0: \\ub125\\uc2a4\\ud2b8 \\ub808\\ubca8\",\"\\ub098\\uc774\\ube0c\\uc2a4 \\uc544\\uc6c3\",\"\\uc724\\ud76c\\uc5d0\\uac8c\",\"\\ub450 \\uad50\\ud669\",\"\\ub098\\ub97c \\ucc3e\\uc544\\uc918\",\"\\ud30c\\ube44\\uc548\\ub290\\uc5d0 \\uad00\\ud55c \\uc9c4\\uc2e4\",\"\\uacb0\\ud63c \\uc774\\uc57c\\uae30\",\"\\uc2e0\\uc758 \\ud55c \\uc218: \\uadc0\\uc218\\ud3b8\",\"\\uae30\\uc0dd\\ucda9\",\"\\ucf54\\ucf54\",\"\\uaca8\\uc6b8\\uc655\\uad6d\",\"\\uc870\\ucee4\",\"\\uac00\\uc7a5 \\ubcf4\\ud1b5\\uc758 \\uc5f0\\uc560\",\"\\ub77c\\ub77c\\ub79c\\ub4dc\",\"\\uc54c\\ub77c\\ub518\",\"\\ud574\\ub9ac \\ud3ec\\ud130\\uc640 \\uc8fd\\uc74c\\uc758 \\uc131\\ubb3c - 2\\ubd80\",\"\\uc5d1\\uc2dc\\ud2b8\",\"\\ub354 \\uc6b8\\ud504 \\uc624\\ube0c \\uc6d4 \\uc2a4\\ud2b8\\ub9ac\\ud2b8\",\"\\uc5b4\\ubca4\\uc838\\uc2a4: \\uc5d4\\ub4dc\\uac8c\\uc784\",\"50\\uac00\\uc9c0 \\uadf8\\ub9bc\\uc790: \\ud574\\ubc29\",\"50\\uac00\\uc9c0 \\uadf8\\ub9bc\\uc790: \\uc2ec\\uc5f0\",\"\\uc544\\uc9c1 \\uc0ac\\ub791\\ud558\\uace0 \\uc788\\uc2b5\\ub2c8\\uae4c?\",\"\\uc5d4\\uc824 \\ud574\\uc988 \\ud3f4\\ub978\",\"\\ud53c\\ubd80\\uc0c9\\uae54=\\uafc0\\uc0c9\",\"\\ub9d0\\ubaa8\\uc774\",\"\\uadf9\\ud55c\\uc9c1\\uc5c5\",\"\\ube44\\uae34 \\uc5b4\\uac8c\\uc778\",\"\\ub108\\uc758 \\uc774\\ub984\\uc740.\",\"\\ubbf8 \\ube44\\ud3ec \\uc720\",\"\\ud574\\ub9ac \\ud3ec\\ud130\\uc640 \\ubd88\\uc0ac\\uc870 \\uae30\\uc0ac\\ub2e8\",\"\\uc5b4\\ubc14\\uc6c3 \\ud0c0\\uc784\",\"82\\ub144\\uc0dd \\uae40\\uc9c0\\uc601\",\"\\uc99d\\uc778\",\"\\ub808\\ub4dc\\uc288\\uc988\",\"\\ud5c8\\uc2ac\\ub7ec\",\"\\uc544\\ub378\\ub77c\\uc778 : \\uba48\\ucdb0\\uc9c4 \\uc2dc\\uac04\",\"\\uc560\\ub4dc \\uc544\\uc2a4\\ud2b8\\ub77c\",\"\\uc2e0\\uc758 \\ud55c \\uc218\",\"\\ub178\\ud305 \\ud790\",\"\\ud0c0\\uc9dc: \\uc6d0 \\uc544\\uc774\\ub4dc \\uc7ad\",\"\\ud1a0\\uc774 \\uc2a4\\ud1a0\\ub9ac 4\",\"\\ub4dc\\ub798\\uace4 \\uae38\\ub4e4\\uc774\\uae30\",\"\\ube0c\\ub8e8\\ud074\\ub9b0\",\"\\uc704\\ub300\\ud55c \\uc1fc\\ub9e8\",\"\\ud06c\\ub864\",\"\\uac00\\ubc84\\ub098\\uc6c0\",\"\\ub3c8\",\"\\ubbf8\\uc2a4 \\uc2ac\\ub85c\\uc6b4\",\"\\uc774\\ud504 \\uc628\\ub9ac\",\"\\uadf8\\ub140\",\"\\uac00\\uc7a5 \\ub530\\ub73b\\ud55c \\uc0c9, \\ube14\\ub8e8\",\"\\uc7a5\\ub09c\\uc2a4\\ub7f0 \\ud0a4\\uc2a4\",\"\\uc138 \\uc5bc\\uac04\\uc774\",\"\\ub808\\ub4dc\\uc288\\uc988\",\"\\uc778\\uac04\\uc911\\ub3c5\",\"\\uc0c9, \\uacc4\",\"\\ucff5\\ud478\\ud32c\\ub3543\",\"\\ub9ac\\ud2c0 \\ud3ec\\ub808\\uc2a4\\ud2b8\",\"\\ub098\\ub294 \\ub0b4\\uc77c, \\uc5b4\\uc81c\\uc758 \\ub108\\uc640 \\ub9cc\\ub09c\\ub2e4\",\"\\uce90\\ub864\",\"\\ud5dd\\uac70\\uac8c\\uc784:\\ubaa8\\ud0b9\\uc81c\\uc774\",\"\\ub7ec\\ube0c \\uc561\\uce04\\uc5bc\\ub9ac\",\"\\uc778\\ud134\",\"\\uc5b4\\uc6b0\\ub3d9: \\uc8fc\\uc778 \\uc5c6\\ub294 \\uaf43\",\"\\uce74\\uc13c\\ud0c0\",\"\\ubcf4\\ud5e4\\ubbf8\\uc548 \\ub7a9\\uc18c\\ub514\",\"\\uc874 \\uc705 3: \\ud30c\\ub77c\\ubca8\\ub8f8\",\"\\uc545\\uc778\\uc804\",\"\\uc774\\ud130\\ub110 \\uc120\\uc0e4\\uc778\",\"\\uc7a5\\uc0ac\\ub9ac : \\uc78a\\ud600\\uc9c4 \\uc601\\uc6c5\\ub4e4\",\"\\ubd09\\uc624\\ub3d9 \\uc804\\ud22c\",\"\\ud788\\ub4e0 \\ud53c\\uaca8\\uc2a4\",\"\\ud5dd\\uac70\\uac8c\\uc784 : \\ub354 \\ud30c\\uc774\\ub110\",\"\\ubaa8\\uc544\\ub098\",\"\\ub108\\ub97c \\ub9cc\\ub09c \\uc5ec\\ub984\",\"\\ub110 \\uae30\\ub2e4\\ub9ac\\uba70\",\"\\ub3d9\\uc8fc\",\"\\uc544\\uc774\\ub9ac\\uc2dc\\ub9e8\"],\"predict_netizen_score\":{\"__ndarray__\":\"buodEvvVIUDsbEnikcohQPKDdJhd7SBATGkTBBN8IUCrIfJSsFIhQExpEwQTfCFANH/POqUiIEBF90lWGGghQIKSN8+CtiFAjt8WrQ+GH0CgWl2GbQYiQJwL0Kj0fCJAnZj97ukbIkAwH2IRyDshQA4rhUnVgCBAJoibzE07IkDoQJLRiV8hQEIM1rBUsCJAfVves+WcIUAcuhTtXAIgQNuGj7yN1CFAQpxwXh7KGkAW8LdLPlIaQGh96JXjChpAjt8WrQ+GH0DUofNUiF8hQOsRq+pi2SBAA3Op/ufDIEAwxurjpxggQNfNqmWQyiFAmJ7VLKheIEDoQJLRiV8hQANzqf7nwyBAQT5l/xpeIUDyg3SYXe0gQOhAktGJXyFAElSVAb/eHkCYntUsqF4gQBcxNrdNsiFAbuC8P1RKHkCmTrJvyAoiQNhQd9ne3R1AxovRqsyJIkD6w673kVMiQBekCHFYEyJAW9rTpf1CIUDLm0LnDy4gQGgQJLWKDyFAdOJajGIKIEC7nVT/L8ggQCFVKkK9USBAe62bZ31BIUBJZs3/PHogQELl7dH6OiBAqyHyUrBSIUDoQJLRiV8hQOY0CjXUBR5AJ+XC8VQgIEDdiLaGnKIhQI5BmNnpkiFA8oN0mF3tIEDf9RJmsuYgQHRVLUZtayBAezrJrXLgIEBJPVzzChEhQGh96JXjChpAezrJrXLgIED69T1GWAEhQCgdxMS5ex9A9hidkMktHkCkoG8jYK8hQJie1SyoXiBA+DV2uq/bH0D2ryupZVghQIqriU9dpyBA2c/RL5+YIUBFEaXiAqYgQGaITh5EdB1A+dviuW3DIUB5y2ppGvwgQA==\",\"dtype\":\"float64\",\"shape\":[80]}},\"selected\":{\"id\":\"1788\",\"type\":\"Selection\"},\"selection_policy\":{\"id\":\"1789\",\"type\":\"UnionRenderers\"}},\"id\":\"1727\",\"type\":\"ColumnDataSource\"},{\"attributes\":{\"formatter\":{\"id\":\"1785\",\"type\":\"BasicTickFormatter\"},\"ticker\":{\"id\":\"1716\",\"type\":\"BasicTicker\"}},\"id\":\"1715\",\"type\":\"LinearAxis\"},{\"attributes\":{\"formatter\":{\"id\":\"1787\",\"type\":\"BasicTickFormatter\"},\"ticker\":{\"id\":\"1721\",\"type\":\"BasicTicker\"}},\"id\":\"1720\",\"type\":\"LinearAxis\"},{\"attributes\":{\"callback\":null},\"id\":\"1707\",\"type\":\"DataRange1d\"},{\"attributes\":{\"callback\":null,\"tooltips\":[[\"index\",\"$index\"],[\"movie_id\",\"@movie_id\"],[\"movie_name\",\"@movie_name\"],[\"netizen_score\",\"@netizen_score\"],[\"predict_netizen_score\",\"@predict_netizen_score\"],[\"grade\",\"@grade\"],[\"genre\",\"@genre\"]]},\"id\":\"1705\",\"type\":\"HoverTool\"},{\"attributes\":{},\"id\":\"1789\",\"type\":\"UnionRenderers\"},{\"attributes\":{},\"id\":\"1785\",\"type\":\"BasicTickFormatter\"},{\"attributes\":{},\"id\":\"1787\",\"type\":\"BasicTickFormatter\"},{\"attributes\":{\"fill_color\":{\"value\":\"red\"},\"line_color\":{\"value\":\"red\"},\"x\":{\"field\":\"expert_score\"},\"y\":{\"field\":\"predict_netizen_score\"}},\"id\":\"1729\",\"type\":\"Scatter\"},{\"attributes\":{\"source\":{\"id\":\"1727\",\"type\":\"ColumnDataSource\"}},\"id\":\"1732\",\"type\":\"CDSView\"},{\"attributes\":{\"text\":\"\"},\"id\":\"1782\",\"type\":\"Title\"},{\"attributes\":{\"ticker\":{\"id\":\"1716\",\"type\":\"BasicTicker\"}},\"id\":\"1719\",\"type\":\"Grid\"},{\"attributes\":{\"data_source\":{\"id\":\"1727\",\"type\":\"ColumnDataSource\"},\"glyph\":{\"id\":\"1729\",\"type\":\"Scatter\"},\"hover_glyph\":null,\"muted_glyph\":null,\"nonselection_glyph\":{\"id\":\"1730\",\"type\":\"Scatter\"},\"selection_glyph\":null,\"view\":{\"id\":\"1732\",\"type\":\"CDSView\"}},\"id\":\"1731\",\"type\":\"GlyphRenderer\"},{\"attributes\":{},\"id\":\"1716\",\"type\":\"BasicTicker\"},{\"attributes\":{\"dimension\":1,\"ticker\":{\"id\":\"1721\",\"type\":\"BasicTicker\"}},\"id\":\"1724\",\"type\":\"Grid\"},{\"attributes\":{},\"id\":\"1788\",\"type\":\"Selection\"},{\"attributes\":{\"fill_alpha\":{\"value\":0.1},\"fill_color\":{\"value\":\"#1f77b4\"},\"line_alpha\":{\"value\":0.1},\"line_color\":{\"value\":\"#1f77b4\"},\"x\":{\"field\":\"expert_score\"},\"y\":{\"field\":\"predict_netizen_score\"}},\"id\":\"1730\",\"type\":\"Scatter\"},{\"attributes\":{},\"id\":\"1721\",\"type\":\"BasicTicker\"},{\"attributes\":{\"callback\":null},\"id\":\"1709\",\"type\":\"DataRange1d\"}],\"root_ids\":[\"1706\"]},\"title\":\"Bokeh Application\",\"version\":\"1.3.4\"}};\n",
       "  var render_items = [{\"docid\":\"e11714cc-2758-47ea-83cd-bf992622189b\",\"roots\":{\"1706\":\"18c37311-021e-4bf5-a977-150797a759b5\"}}];\n",
       "  root.Bokeh.embed.embed_items_notebook(docs_json, render_items);\n",
       "\n",
       "  }\n",
       "  if (root.Bokeh !== undefined) {\n",
       "    embed_document(root);\n",
       "  } else {\n",
       "    var attempts = 0;\n",
       "    var timer = setInterval(function(root) {\n",
       "      if (root.Bokeh !== undefined) {\n",
       "        embed_document(root);\n",
       "        clearInterval(timer);\n",
       "      }\n",
       "      attempts++;\n",
       "      if (attempts > 100) {\n",
       "        console.log(\"Bokeh: ERROR: Unable to run BokehJS code because BokehJS library is missing\");\n",
       "        clearInterval(timer);\n",
       "      }\n",
       "    }, 10, root)\n",
       "  }\n",
       "})(window);"
      ],
      "application/vnd.bokehjs_exec.v0+json": ""
     },
     "metadata": {
      "application/vnd.bokehjs_exec.v0+json": {
       "id": "1706"
      }
     },
     "output_type": "display_data"
    }
   ],
   "source": [
    "Rformula = 'netizen_score ~ expert_score + grade'\n",
    "\n",
    "regression_result = ols(Rformula, data = df).fit()\n",
    "##print(regression_result)\n",
    "\n",
    "sample1 = df[df.columns.difference(['netizen_score'])][0:][:]\n",
    "##print(sample1)\n",
    "\n",
    "sample1_predict = pd.DataFrame(regression_result.predict(sample1))\n",
    "sample1_predict.columns = ['predict_netizen_score']\n",
    "##print(sample1_predict)\n",
    "\n",
    "sample1_results = pd.concat([sample1_predict,sample1], axis=1)\n",
    "\n",
    "##print(sample1_results)\n",
    "\n",
    "hover = HoverTool(\n",
    "    tooltips=[\n",
    "        (\"index\", \"$index\"),\n",
    "        (\"movie_id\", \"@movie_id\"),\n",
    "        (\"movie_name\", \"@movie_name\"),\n",
    "        (\"netizen_score\", \"@netizen_score\"),  \n",
    "        (\"predict_netizen_score\", \"@predict_netizen_score\"),\n",
    "        (\"grade\", \"@grade\"),\n",
    "        (\"genre\", \"@genre\")        \n",
    "    ]\n",
    ")\n",
    "\n",
    "p = figure(tools=[hover],plot_width=500, plot_height=300)\n",
    "\n",
    "p.scatter(\"expert_score\", \"predict_netizen_score\", source = sample1_results, color = 'red')\n",
    "\n",
    "show(p)"
   ]
  }
 ],
 "metadata": {
  "kernelspec": {
   "display_name": "Python 3",
   "language": "python",
   "name": "python3"
  },
  "language_info": {
   "codemirror_mode": {
    "name": "ipython",
    "version": 3
   },
   "file_extension": ".py",
   "mimetype": "text/x-python",
   "name": "python",
   "nbconvert_exporter": "python",
   "pygments_lexer": "ipython3",
   "version": "3.7.4"
  }
 },
 "nbformat": 4,
 "nbformat_minor": 2
}
