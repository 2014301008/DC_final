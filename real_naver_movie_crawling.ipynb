{
 "cells": [
  {
   "cell_type": "code",
   "execution_count": 28,
   "metadata": {},
   "outputs": [
    {
     "name": "stdout",
     "output_type": "stream",
     "text": [
      "영화 정보 크롤링이 지금 시작 됩니다.\n",
      "[181710, '포드 V 페라리', '9.56', '7.63', '12세 관람가', '액션']\n",
      "80\n",
      "== 데이터 수 : 80\n",
      "FINISHED\n"
     ]
    }
   ],
   "source": [
    "import urllib.request\n",
    "from bs4 import BeautifulSoup\n",
    "import pandas as pd\n",
    "import re \n",
    "\n",
    "def get_naver_movie_inform(result,movie_id_list):\n",
    "    \n",
    "    for movie_id in movie_id_list:\n",
    "        \n",
    "        using_url = \"https://movie.naver.com/movie/bi/mi/basic.nhn?code=%s\" %str(movie_id)\n",
    "        \n",
    "        rcv_data = urllib.request.urlopen(using_url)\n",
    "        soup = BeautifulSoup(rcv_data, 'html.parser')\n",
    "        \n",
    "        movie_name = soup.find('h3', attrs = {'class':'h_movie'}).find('a').text ## 영화 이름 \n",
    "        \n",
    "        temp = soup.find('div', attrs = {'class':'netizen_score'})  ## 네티즌 평점 구하기 위해서 임시로 \n",
    "        netizen_score = temp.find('div', attrs = {'class':'star_score'}).find('em').text  ## 네티즌 평점  \n",
    "\n",
    "        temp2 = soup.find('div', attrs = {'class':'special_score'})  ## 전문가 평점 구하기 위해서 임시로 \n",
    "        expert_score = temp2.find('div', attrs = {'class':'star_score'}).find('em').text ## 전문가 평점 \n",
    "\n",
    "        multi_temp = soup.find('dl',attrs = {'class':'info_spec'}) ## 이 곳에 등급과 장르가 숨겨져 있다.\n",
    "        \n",
    "        grade = multi_temp .find('a',href=re.compile(\"/movie/sdb/browsing/bmovie.nhn\\?grade\")).get_text() ## 겨우 찾은 등급\n",
    "\n",
    "        genre = multi_temp.find('a',href=re.compile(\"/movie/sdb/browsing/bmovie.nhn\\?genre=\")).get_text() ## 장르 중에서 첫 번째 \n",
    "\n",
    "        result.append([movie_id]+[movie_name]+[netizen_score]+[expert_score]+[grade]+[genre])\n",
    "    \n",
    "    print(result[0])\n",
    "    print(len(movie_id_list)) ## 영화리스트 길이 확인용\n",
    "    print(\"== 데이터 수 : %d\" %len(result))\n",
    "\n",
    "    return\n",
    "\n",
    "def real_final_cswin():\n",
    "    result = []\n",
    "    \n",
    "    movie_id_list = [181710,136873,187349,189000,182387,189111,175324,188060,188056,179159,\n",
    "                    161967,151728,100931,167613,182205,134963,163788,47528,174903,95333,\n",
    "                    136900,154598,144081,187390,163831,95762,167699,167651,96379,150198,\n",
    "                    137915,57095,92075,179482,177374,164907,188473,118954,159887,107373,\n",
    "                    24830,96951,101966,70457,103657,106360,183803,174830,163608,142632,\n",
    "                    39440,101950,98432,180381,73372,164907,113353,61101,97692,154449,\n",
    "                    157178,101962,100644,36843,118917,122009,179302,156464,181698,177967,\n",
    "                    38444,159806,178526,147092,100643,130849,187787,124031,134899,154298]\n",
    "    \n",
    "    print('영화 정보 크롤링이 지금 시작 됩니다.')\n",
    "    \n",
    "    get_naver_movie_inform(result,movie_id_list)\n",
    "    \n",
    "    movie_table = pd.DataFrame(result, columns=('movie_id', 'movie_name', 'netizen_score', 'expert_score',\n",
    "                                                'grade','genre'))\n",
    "    \n",
    "    movie_table.to_csv(\"./movie.csv\", encoding=\"cp949\", mode='w', index=True)\n",
    "    del result[:]\n",
    "    print('FINISHED')\n",
    "\n",
    "if __name__ == '__main__':\n",
    "    real_final_cswin()\n",
    "\n",
    "\n",
    "\n"
   ]
  },
  {
   "cell_type": "code",
   "execution_count": null,
   "metadata": {},
   "outputs": [],
   "source": []
  },
  {
   "cell_type": "code",
   "execution_count": null,
   "metadata": {},
   "outputs": [],
   "source": []
  }
 ],
 "metadata": {
  "kernelspec": {
   "display_name": "Python 3",
   "language": "python",
   "name": "python3"
  },
  "language_info": {
   "codemirror_mode": {
    "name": "ipython",
    "version": 3
   },
   "file_extension": ".py",
   "mimetype": "text/x-python",
   "name": "python",
   "nbconvert_exporter": "python",
   "pygments_lexer": "ipython3",
   "version": "3.7.4"
  }
 },
 "nbformat": 4,
 "nbformat_minor": 2
}
